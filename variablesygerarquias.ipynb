{
 "cells": [
  {
   "cell_type": "code",
   "execution_count": 2,
   "id": "0ef182b1-474f-4611-8461-fd0825910418",
   "metadata": {},
   "outputs": [
    {
     "name": "stdout",
     "output_type": "stream",
     "text": [
      "2\n"
     ]
    }
   ],
   "source": [
    "# Ejemplos de asignaciones\n",
    "x = 2\n",
    "print(x)"
   ]
  },
  {
   "cell_type": "code",
   "execution_count": 4,
   "id": "150449d7-94c7-449d-9bfe-3aa9c8c29036",
   "metadata": {},
   "outputs": [
    {
     "name": "stdout",
     "output_type": "stream",
     "text": [
      "5\n"
     ]
    }
   ],
   "source": [
    "# Seguimiento del valor de x anterior 3 ahora 5.\n",
    "x = x + 3\n",
    "print(x)"
   ]
  },
  {
   "cell_type": "code",
   "execution_count": 10,
   "id": "90584d13-bca6-4d83-8fc8-ea0f25f0f493",
   "metadata": {},
   "outputs": [
    {
     "name": "stdout",
     "output_type": "stream",
     "text": [
      "25\n"
     ]
    }
   ],
   "source": [
    "# A la 2da potencia ** o potencia.\n",
    "# Valor de x es de 5 y a la 2da potencia se multiplica por su mismo valor asi que es 5 x 5 = 25.\n",
    "y = x ** 2\n",
    "print(y)"
   ]
  },
  {
   "cell_type": "code",
   "execution_count": 12,
   "id": "84b4684d-65d3-4e42-9ef9-a915128d6eed",
   "metadata": {},
   "outputs": [
    {
     "name": "stdout",
     "output_type": "stream",
     "text": [
      "3\n"
     ]
    }
   ],
   "source": [
    "# Residuo: 23 a ejemplo de 5 x 4 = 20 residuo de 3 y es el signo que nos permite ver el residuo de nuestra operacion\n",
    "z = 23 % 5 \n",
    "print(z)"
   ]
  },
  {
   "cell_type": "code",
   "execution_count": 18,
   "id": "1f8c9e7e-3209-4fa4-8720-a9006ba7ee12",
   "metadata": {},
   "outputs": [],
   "source": [
    "# Iniciamos con la * que es = 15 y seguimos con /2 = 7.5 terminando con + 3\n",
    "x = 1 + 2 + 3*5 / 2"
   ]
  },
  {
   "cell_type": "code",
   "execution_count": 16,
   "id": "e26508dd-92ba-4435-8ca7-a380d28f4070",
   "metadata": {},
   "outputs": [
    {
     "name": "stdout",
     "output_type": "stream",
     "text": [
      "10.5\n"
     ]
    }
   ],
   "source": [
    "print(x)"
   ]
  },
  {
   "cell_type": "code",
   "execution_count": 20,
   "id": "274df158-88ee-44c1-99ee-89f445cb3d5c",
   "metadata": {},
   "outputs": [
    {
     "name": "stdout",
     "output_type": "stream",
     "text": [
      "11.0\n"
     ]
    }
   ],
   "source": [
    "y = 1 + 2 ** 3 / 4 * 5\n",
    "print(y)"
   ]
  },
  {
   "cell_type": "code",
   "execution_count": 22,
   "id": "7311e1e5-b4d8-451f-803a-9b3dd18a4fcf",
   "metadata": {},
   "outputs": [
    {
     "name": "stdout",
     "output_type": "stream",
     "text": [
      "33.75\n"
     ]
    }
   ],
   "source": [
    "w = (1+2)**3/4*5\n",
    "print(w)"
   ]
  },
  {
   "cell_type": "code",
   "execution_count": 26,
   "id": "f259a7a6-5e76-469d-bece-27ec3d7aaa8f",
   "metadata": {},
   "outputs": [
    {
     "data": {
      "text/plain": [
       "float"
      ]
     },
     "execution_count": 26,
     "metadata": {},
     "output_type": "execute_result"
    }
   ],
   "source": [
    "# Comando type nos indicara el tipo de expresiones\n",
    "type(w)"
   ]
  },
  {
   "cell_type": "code",
   "execution_count": 32,
   "id": "6e184c86-7e93-4edd-bccd-1a0bc7a0431c",
   "metadata": {},
   "outputs": [
    {
     "name": "stdout",
     "output_type": "stream",
     "text": [
      "EBAC\n"
     ]
    }
   ],
   "source": [
    "texto = \"EBAC\"\n",
    "print(texto)"
   ]
  },
  {
   "cell_type": "code",
   "execution_count": 34,
   "id": "d500353b-84fe-4968-82a8-fd13bd3de4bc",
   "metadata": {},
   "outputs": [
    {
     "data": {
      "text/plain": [
       "str"
      ]
     },
     "execution_count": 34,
     "metadata": {},
     "output_type": "execute_result"
    }
   ],
   "source": [
    "# STR tipo de variable Cadena\n",
    "type(texto)"
   ]
  },
  {
   "cell_type": "code",
   "execution_count": 44,
   "id": "3ac843b8-d3c0-413e-b5d4-154c227be51a",
   "metadata": {},
   "outputs": [
    {
     "name": "stdout",
     "output_type": "stream",
     "text": [
      "Hola Buen dia\n"
     ]
    }
   ],
   "source": [
    "# Concatenacion\n",
    "texto2 = \"Hola \" + \"Buen dia\"\n",
    "print(texto2)"
   ]
  },
  {
   "cell_type": "code",
   "execution_count": 46,
   "id": "3287898a-624d-46e8-8efc-e8c504ed5697",
   "metadata": {},
   "outputs": [
    {
     "ename": "TypeError",
     "evalue": "can only concatenate str (not \"int\") to str",
     "output_type": "error",
     "traceback": [
      "\u001b[1;31m---------------------------------------------------------------------------\u001b[0m",
      "\u001b[1;31mTypeError\u001b[0m                                 Traceback (most recent call last)",
      "Cell \u001b[1;32mIn[46], line 1\u001b[0m\n\u001b[1;32m----> 1\u001b[0m texto2 \u001b[38;5;241m=\u001b[39m texto2 \u001b[38;5;241m+\u001b[39m \u001b[38;5;241m1\u001b[39m\n",
      "\u001b[1;31mTypeError\u001b[0m: can only concatenate str (not \"int\") to str"
     ]
    }
   ],
   "source": [
    "texto2 = texto2 + 1"
   ]
  },
  {
   "cell_type": "code",
   "execution_count": 48,
   "id": "c30f4fa5-2342-4042-bf2b-a37388f86f72",
   "metadata": {},
   "outputs": [
    {
     "data": {
      "text/plain": [
       "int"
      ]
     },
     "execution_count": 48,
     "metadata": {},
     "output_type": "execute_result"
    }
   ],
   "source": [
    "# Variable de tipo entero\n",
    "x = 4\n",
    "type(4)"
   ]
  },
  {
   "cell_type": "code",
   "execution_count": 50,
   "id": "9149aa63-40b3-47f2-b154-92038331acd3",
   "metadata": {},
   "outputs": [
    {
     "data": {
      "text/plain": [
       "float"
      ]
     },
     "execution_count": 50,
     "metadata": {},
     "output_type": "execute_result"
    }
   ],
   "source": [
    "# Tipo de variable flotante\n",
    "x = 10\n",
    "y = 15\n",
    "z = x / y\n",
    "type(z)"
   ]
  },
  {
   "cell_type": "code",
   "execution_count": 52,
   "id": "916fbf63-e214-4b9f-a74b-71651d778436",
   "metadata": {},
   "outputs": [
    {
     "name": "stdout",
     "output_type": "stream",
     "text": [
      "0.6666666666666666\n"
     ]
    }
   ],
   "source": [
    "print(z)"
   ]
  },
  {
   "cell_type": "code",
   "execution_count": 54,
   "id": "d3be5640-8fb2-43c5-9ad8-5e69941b0b68",
   "metadata": {},
   "outputs": [
    {
     "name": "stdout",
     "output_type": "stream",
     "text": [
      "0\n"
     ]
    }
   ],
   "source": [
    "# Cambiamos el tipo de variable.\n",
    "z = int(z)\n",
    "print(z)"
   ]
  },
  {
   "cell_type": "code",
   "execution_count": 56,
   "id": "26bd704c-b0c3-4689-8f17-5d28bd6cfe7e",
   "metadata": {},
   "outputs": [
    {
     "data": {
      "text/plain": [
       "int"
      ]
     },
     "execution_count": 56,
     "metadata": {},
     "output_type": "execute_result"
    }
   ],
   "source": [
    "type(x)"
   ]
  },
  {
   "cell_type": "code",
   "execution_count": 58,
   "id": "d853a624-d2c8-4a4a-b1a3-debeaf58e024",
   "metadata": {},
   "outputs": [
    {
     "name": "stdout",
     "output_type": "stream",
     "text": [
      "10.0\n"
     ]
    }
   ],
   "source": [
    "# 2do ejempo de cambiar el tipo de variable\n",
    "x = float(x)\n",
    "print(x)"
   ]
  },
  {
   "cell_type": "code",
   "execution_count": 60,
   "id": "1fd4b5fc-0455-4e1e-92ba-4b0924a7f185",
   "metadata": {},
   "outputs": [
    {
     "data": {
      "text/plain": [
       "float"
      ]
     },
     "execution_count": 60,
     "metadata": {},
     "output_type": "execute_result"
    }
   ],
   "source": [
    "type(x)"
   ]
  },
  {
   "cell_type": "code",
   "execution_count": 64,
   "id": "00b5a51d-cf84-4d2e-9a97-e157474ed428",
   "metadata": {},
   "outputs": [
    {
     "name": "stdin",
     "output_type": "stream",
     "text": [
      "¿Como te llamas? Randi\n"
     ]
    }
   ],
   "source": [
    "nombre = input(\"¿Como te llamas?\")\n",
    "print(\"Tu nombre es \", nombre)"
   ]
  },
  {
   "cell_type": "code",
   "execution_count": 66,
   "id": "4338a018-ab2d-46ff-a4de-c6cdcd1f7b3a",
   "metadata": {},
   "outputs": [
    {
     "name": "stdin",
     "output_type": "stream",
     "text": [
      "Dame tu edad 10\n"
     ]
    },
    {
     "name": "stdout",
     "output_type": "stream",
     "text": [
      "1010\n"
     ]
    }
   ],
   "source": [
    "# input no detecta el valor nu erico y lo recicla como alfabetico\n",
    "edad = input(\"Dame tu edad\")\n",
    "resultado = edad * 2\n",
    "print(resultado)"
   ]
  },
  {
   "cell_type": "code",
   "execution_count": 2,
   "id": "08f146db-bd2e-4e1c-89aa-1a2ce2163f5b",
   "metadata": {},
   "outputs": [
    {
     "name": "stdin",
     "output_type": "stream",
     "text": [
      "Dame tu edad 010\n"
     ]
    },
    {
     "name": "stdout",
     "output_type": "stream",
     "text": [
      "20\n"
     ]
    },
    {
     "data": {
      "text/plain": [
       "int"
      ]
     },
     "execution_count": 2,
     "metadata": {},
     "output_type": "execute_result"
    }
   ],
   "source": [
    "# INT le dio el valor numerico para que imput lo detectara \n",
    "edad = input(\"Dame tu edad\")\n",
    "resultado = int(edad) * 2\n",
    "print(resultado)\n",
    "type(resultado)"
   ]
  },
  {
   "cell_type": "code",
   "execution_count": null,
   "id": "68ab9405-0b41-4542-ab6a-55df5fde1908",
   "metadata": {},
   "outputs": [],
   "source": []
  }
 ],
 "metadata": {
  "kernelspec": {
   "display_name": "Python 3 (ipykernel)",
   "language": "python",
   "name": "python3"
  },
  "language_info": {
   "codemirror_mode": {
    "name": "ipython",
    "version": 3
   },
   "file_extension": ".py",
   "mimetype": "text/x-python",
   "name": "python",
   "nbconvert_exporter": "python",
   "pygments_lexer": "ipython3",
   "version": "3.12.4"
  }
 },
 "nbformat": 4,
 "nbformat_minor": 5
}
