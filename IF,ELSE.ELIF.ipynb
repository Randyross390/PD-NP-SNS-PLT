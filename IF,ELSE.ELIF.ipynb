{
 "cells": [
  {
   "cell_type": "code",
   "execution_count": 4,
   "id": "8c3d04f9-d3f4-46e3-a95d-9602b88f2f64",
   "metadata": {},
   "outputs": [
    {
     "name": "stdout",
     "output_type": "stream",
     "text": [
      "b es mayor que a\n"
     ]
    }
   ],
   "source": [
    "a = 33\n",
    "b = 200\n",
    "if b > a:\n",
    "    print(\"b es mayor que a\")"
   ]
  },
  {
   "cell_type": "code",
   "execution_count": 6,
   "id": "f545b8fa-7551-46e8-b6d8-ac1ecd07c50b",
   "metadata": {},
   "outputs": [
    {
     "ename": "IndentationError",
     "evalue": "expected an indented block after 'if' statement on line 3 (4152797064.py, line 4)",
     "output_type": "error",
     "traceback": [
      "\u001b[1;36m  Cell \u001b[1;32mIn[6], line 4\u001b[1;36m\u001b[0m\n\u001b[1;33m    print(\"b es mayor que a\")\u001b[0m\n\u001b[1;37m    ^\u001b[0m\n\u001b[1;31mIndentationError\u001b[0m\u001b[1;31m:\u001b[0m expected an indented block after 'if' statement on line 3\n"
     ]
    }
   ],
   "source": [
    "a = 33\n",
    "b = 200\n",
    "if b > a:\n",
    "print(\"b es mayor que a\")"
   ]
  },
  {
   "cell_type": "code",
   "execution_count": 10,
   "id": "a2e4510c-ac11-421d-be0c-28b03f92c97f",
   "metadata": {},
   "outputs": [
    {
     "name": "stdout",
     "output_type": "stream",
     "text": [
      "1\n",
      "2\n",
      "3\n"
     ]
    }
   ],
   "source": [
    "if \"f\" in \"foo\": ## en caso de que f si salga le indicamos que nos impirima 1,2,3\n",
    "    print(\"1\")\n",
    "    print(\"2\")\n",
    "    print(\"3\")"
   ]
  },
  {
   "cell_type": "code",
   "execution_count": 12,
   "id": "51bdc95d-3827-435f-83f3-06fce7ef91be",
   "metadata": {},
   "outputs": [
    {
     "name": "stdout",
     "output_type": "stream",
     "text": [
      "1\n",
      "2\n",
      "3\n"
     ]
    }
   ],
   "source": [
    "if \"f\" in \"foo\": print(\"1\"); print(\"2\"); print(\"3\") ## alternativa ejecucion en varios renglones\n"
   ]
  },
  {
   "cell_type": "code",
   "execution_count": 18,
   "id": "4a5d27e5-9160-4698-8275-059326aed92d",
   "metadata": {},
   "outputs": [
    {
     "name": "stdout",
     "output_type": "stream",
     "text": [
      "i es mayor que 11\n"
     ]
    }
   ],
   "source": [
    "i = 15\n",
    "if i > 11: print(\"i es mayor que 11\")"
   ]
  },
  {
   "cell_type": "code",
   "execution_count": 20,
   "id": "30f0b896-9125-4f45-b78a-331f9b878cf4",
   "metadata": {},
   "outputs": [
    {
     "name": "stdout",
     "output_type": "stream",
     "text": [
      "ambas condiciones son verdaderas\n"
     ]
    }
   ],
   "source": [
    "a = 200\n",
    "b = 33\n",
    "c = 500\n",
    "if a > b and c > a:\n",
    "    print(\"ambas condiciones son verdaderas\")"
   ]
  },
  {
   "cell_type": "code",
   "execution_count": 91,
   "id": "a2f89661-f65a-4c19-903c-9ba4bd93263b",
   "metadata": {},
   "outputs": [
    {
     "name": "stdout",
     "output_type": "stream",
     "text": [
      "almenos una de las condiciones es verdadera\n"
     ]
    }
   ],
   "source": [
    "a = 200\n",
    "b = 33\n",
    "c = 500\n",
    "if a > b or c < a:\n",
    "    print(\"almenos una de las condiciones es verdadera\")"
   ]
  },
  {
   "cell_type": "code",
   "execution_count": 32,
   "id": "51b201ae-99d5-4db0-91e9-3f0e692ac302",
   "metadata": {},
   "outputs": [
    {
     "name": "stdout",
     "output_type": "stream",
     "text": [
      "Grande\n",
      "fin\n"
     ]
    }
   ],
   "source": [
    "# Modelo de condion con diferentes acciones\n",
    "x = 50\n",
    "if x < 10:\n",
    "    print(\"pequeño\")\n",
    "if x > 20:\n",
    "    print(\"Grande\")\n",
    "print(\"fin\")"
   ]
  },
  {
   "cell_type": "code",
   "execution_count": 38,
   "id": "63eaf222-4dee-44f4-9f85-bef133db793e",
   "metadata": {},
   "outputs": [
    {
     "name": "stdout",
     "output_type": "stream",
     "text": [
      "igual a 5\n",
      "mayor que 4\n",
      "mayor o igual que 5\n",
      "Menor a 6\n",
      "menor o igual que 5\n",
      "diferente que 6\n"
     ]
    }
   ],
   "source": [
    "x = 5\n",
    "if x == 5:\n",
    "    print(\"igual a 5\")\n",
    "if x > 4:\n",
    "    print(\"mayor que 4\")\n",
    "if x >= 5:\n",
    "    print(\"mayor o igual que 5\")\n",
    "if x < 6: print(\"Menor a 6\")\n",
    "if x <= 5: print(\"menor o igual que 5\")\n",
    "if x != 6: print(\"diferente que 6\")"
   ]
  },
  {
   "cell_type": "code",
   "execution_count": 44,
   "id": "198277bf-77b8-4af1-af19-8631ce779a68",
   "metadata": {},
   "outputs": [
    {
     "name": "stdin",
     "output_type": "stream",
     "text": [
      "Dame un numero:  100\n"
     ]
    },
    {
     "name": "stdout",
     "output_type": "stream",
     "text": [
      "Mayor a 1\n",
      "proceso terminado\n"
     ]
    }
   ],
   "source": [
    "## como poner acciones en resultados arrojados en caso de que sean aprovados\n",
    "x = input(\"Dame un numero: \")\n",
    "if float(x) > 1:\n",
    "    print(\"Mayor a 1\")\n",
    "    if float(x) < 100:\n",
    "        print(\"Menor a 100\")\n",
    "print(\"proceso terminado\")"
   ]
  },
  {
   "cell_type": "markdown",
   "id": "fc5c98c4-870f-4a80-acac-0836d70b136d",
   "metadata": {},
   "source": [
    "# COMANDO \"ELSE\""
   ]
  },
  {
   "cell_type": "code",
   "execution_count": 52,
   "id": "339c5b85-90c1-4ce5-994d-a5f7b4393e2b",
   "metadata": {},
   "outputs": [
    {
     "name": "stdout",
     "output_type": "stream",
     "text": [
      "Mas pequeño\n",
      "Fin\n"
     ]
    }
   ],
   "source": [
    "## ELse sirve para que en caso de que no sea el resultado pedido con \"IF\" tambien nos inidique con un \"print\"\n",
    "x = 1\n",
    "if x > 2:\n",
    "    print(\"Mas grande\")\n",
    "else:\n",
    "    print(\"Mas pequeño\")\n",
    "print(\"Fin\")"
   ]
  },
  {
   "cell_type": "code",
   "execution_count": 66,
   "id": "9daeecc8-8dac-40c3-a6a1-b5f8218f9537",
   "metadata": {},
   "outputs": [
    {
     "name": "stdin",
     "output_type": "stream",
     "text": [
      "Dame un numero:  30\n"
     ]
    },
    {
     "name": "stdout",
     "output_type": "stream",
     "text": [
      "x =  30.0\n",
      "Grande\n",
      "\n",
      "fin\n"
     ]
    }
   ],
   "source": [
    "# Desiciones de caminos multiples\n",
    "x = float(input(\"Dame un numero: \"))\n",
    "if x < 2:\n",
    "    print(\"x = \", x)\n",
    "    print(\"Pequeño\")\n",
    "elif x < 10:\n",
    "    print(\"x = \", x)\n",
    "    print(\"Mediano\")\n",
    "else:\n",
    "    print(\"x = \", x)\n",
    "    print(\"Grande\")\n",
    "print(\"\\nfin\")"
   ]
  },
  {
   "cell_type": "code",
   "execution_count": 72,
   "id": "92cab034-23c8-4def-8084-12e1540b77a2",
   "metadata": {},
   "outputs": [
    {
     "name": "stdin",
     "output_type": "stream",
     "text": [
      "Dame un numero:  4\n"
     ]
    },
    {
     "name": "stdout",
     "output_type": "stream",
     "text": [
      "x =  4.0\n",
      "Mediano\n",
      "\n",
      "fin\n"
     ]
    }
   ],
   "source": [
    "x = float(input(\"Dame un numero: \"))\n",
    "print(\"x = \", x)\n",
    "if x < 2: print(\"Pequeño\")\n",
    "elif x < 10: print(\"Mediano\")\n",
    "else: print(\"Grande\")\n",
    "print(\"\\nfin\")"
   ]
  },
  {
   "cell_type": "code",
   "execution_count": 76,
   "id": "2feb5bae-a505-4dea-978a-ef07a61218f2",
   "metadata": {},
   "outputs": [
    {
     "name": "stdin",
     "output_type": "stream",
     "text": [
      "Dame un numero:  20\n"
     ]
    },
    {
     "name": "stdout",
     "output_type": "stream",
     "text": [
      "x =  20.0\n",
      "Gigante\n",
      "\n",
      "fin\n"
     ]
    }
   ],
   "source": [
    "x = float(input(\"Dame un numero: \"))\n",
    "print(\"x = \", x)\n",
    "if x < 2: print(\"Pequeño\")\n",
    "elif x < 10: print(\"Mediano\")\n",
    "elif x < 20: print(\"Grande\")\n",
    "else: print(\"Gigante\")\n",
    "print(\"\\nfin\")"
   ]
  },
  {
   "cell_type": "code",
   "execution_count": 93,
   "id": "34b1ead7-3f5a-4072-8c89-35703c35b000",
   "metadata": {},
   "outputs": [
    {
     "ename": "SyntaxError",
     "evalue": "invalid syntax (1102566027.py, line 4)",
     "output_type": "error",
     "traceback": [
      "\u001b[1;36m  Cell \u001b[1;32mIn[93], line 4\u001b[1;36m\u001b[0m\n\u001b[1;33m    .\u001b[0m\n\u001b[1;37m    ^\u001b[0m\n\u001b[1;31mSyntaxError\u001b[0m\u001b[1;31m:\u001b[0m invalid syntax\n"
     ]
    }
   ],
   "source": [
    "# \"ELIF\" puede ser utulizado las veces que necesitemos a diferencia de \"IF\" y \"ELSE\" que solo se pueden utilizar UNA vez.\n",
    "\n",
    "\n",
    "."
   ]
  },
  {
   "cell_type": "markdown",
   "id": "4d5eb481-6818-4dac-acb0-2ec9bec93705",
   "metadata": {},
   "source": [
    "# SECCION DE CASOS ESPECIALES"
   ]
  },
  {
   "cell_type": "code",
   "execution_count": 83,
   "id": "aeb23c76-c9f3-43c7-8147-e24e249b1f42",
   "metadata": {},
   "outputs": [
    {
     "name": "stdout",
     "output_type": "stream",
     "text": [
      "B\n"
     ]
    }
   ],
   "source": [
    "a = 3\n",
    "b = 5\n",
    "print(\"A\") if a > b else print(\"B\")"
   ]
  },
  {
   "cell_type": "code",
   "execution_count": 85,
   "id": "a05fca5b-3bf3-40b3-8ce0-f085de34d8de",
   "metadata": {},
   "outputs": [
    {
     "name": "stdout",
     "output_type": "stream",
     "text": [
      "B es mayor\n"
     ]
    }
   ],
   "source": [
    "a = 3\n",
    "b = 5\n",
    "print(\"A es mayor\") if a > b else print(\"=\") if a == b else print(\"B es mayor\")"
   ]
  },
  {
   "cell_type": "code",
   "execution_count": 87,
   "id": "b9bf9278-a0d7-486e-9863-2c0834d33e6a",
   "metadata": {},
   "outputs": [],
   "source": [
    "a = 33\n",
    "b = 200\n",
    "if b > a:\n",
    "    pass"
   ]
  },
  {
   "cell_type": "code",
   "execution_count": 89,
   "id": "6d908316-9689-41c7-ae03-12f4ba9c9829",
   "metadata": {},
   "outputs": [],
   "source": [
    "## Con la isntruccion Pass es indicarle que simplemente no haga nada."
   ]
  },
  {
   "cell_type": "markdown",
   "id": "0afba80a-023b-46ab-9a7f-f8ccaad5cd53",
   "metadata": {},
   "source": [
    "## Comando \"TRY\" Y \"EXCEPT\""
   ]
  },
  {
   "cell_type": "code",
   "execution_count": 98,
   "id": "b6307a68-9026-4b48-8afc-c14f9a7db9d2",
   "metadata": {},
   "outputs": [
    {
     "name": "stdout",
     "output_type": "stream",
     "text": [
      "123\n"
     ]
    }
   ],
   "source": [
    "cadena1 = \"123\"\n",
    "entero = int(cadena1)\n",
    "print(entero)"
   ]
  },
  {
   "cell_type": "code",
   "execution_count": 104,
   "id": "5963ee47-4d8d-4a5a-9a8d-133cecb77f3a",
   "metadata": {},
   "outputs": [
    {
     "name": "stdin",
     "output_type": "stream",
     "text": [
      "Dame un numero entero positivo:  pablo\n"
     ]
    },
    {
     "name": "stdout",
     "output_type": "stream",
     "text": [
      "Valor incorrecto\n"
     ]
    }
   ],
   "source": [
    "cadena = input(\"Dame un numero entero positivo: \")\n",
    "try:\n",
    "    entero = int(cadena)\n",
    "except:\n",
    "    entero = -1\n",
    "\n",
    "if entero > 0 :\n",
    "    print(\"Valor correcto\")\n",
    "else:\n",
    "    print(\"Valor incorrecto\")"
   ]
  },
  {
   "cell_type": "markdown",
   "id": "49c40ea6-dbb6-42e2-b558-8c686a83c83d",
   "metadata": {},
   "source": [
    "# Usos avansados de IF"
   ]
  },
  {
   "cell_type": "code",
   "execution_count": 112,
   "id": "1cb77495-870f-48dd-b255-c665738ed225",
   "metadata": {},
   "outputs": [
    {
     "name": "stdout",
     "output_type": "stream",
     "text": [
      "Vamos a La biblioteca\n"
     ]
    }
   ],
   "source": [
    "lluvia = True\n",
    "print(\"Vamos a\", \"La playa\" if not lluvia else \"La biblioteca\")"
   ]
  },
  {
   "cell_type": "code",
   "execution_count": 126,
   "id": "35f0ac22-a55f-4506-bb17-ce0b8cdebda4",
   "metadata": {},
   "outputs": [
    {
     "data": {
      "text/plain": [
       "42"
      ]
     },
     "execution_count": 126,
     "metadata": {},
     "output_type": "execute_result"
    }
   ],
   "source": [
    "x = y = 40\n",
    "z = x + 1 if x > y else y + 2\n",
    "z"
   ]
  },
  {
   "cell_type": "code",
   "execution_count": 134,
   "id": "1d387644-ca1b-4c7e-b88b-f42187192754",
   "metadata": {},
   "outputs": [
    {
     "data": {
      "text/plain": [
       "'mno'"
      ]
     },
     "execution_count": 134,
     "metadata": {},
     "output_type": "execute_result"
    }
   ],
   "source": [
    "x = 3\n",
    "s = (\"abc\" if (x == 1)  else\n",
    "     \"def\"  if (x == 2) else\n",
    "     \"ghi\" if (x == 4) else\n",
    "     \"mno\")\n",
    "s"
   ]
  },
  {
   "cell_type": "code",
   "execution_count": 139,
   "id": "58167b74-6ef1-40c6-9716-aaf080d94a8c",
   "metadata": {},
   "outputs": [
    {
     "data": {
      "text/plain": [
       "'no'"
      ]
     },
     "execution_count": 139,
     "metadata": {},
     "output_type": "execute_result"
    }
   ],
   "source": [
    "\"si\" if (\"jkl\" in [\"abc\", \"def\", \"ghi\"]) else \"no\""
   ]
  },
  {
   "cell_type": "code",
   "execution_count": null,
   "id": "4040b913-9c8c-4ad3-8b9f-55ebad71da60",
   "metadata": {},
   "outputs": [],
   "source": []
  }
 ],
 "metadata": {
  "kernelspec": {
   "display_name": "Python 3 (ipykernel)",
   "language": "python",
   "name": "python3"
  },
  "language_info": {
   "codemirror_mode": {
    "name": "ipython",
    "version": 3
   },
   "file_extension": ".py",
   "mimetype": "text/x-python",
   "name": "python",
   "nbconvert_exporter": "python",
   "pygments_lexer": "ipython3",
   "version": "3.12.4"
  }
 },
 "nbformat": 4,
 "nbformat_minor": 5
}
