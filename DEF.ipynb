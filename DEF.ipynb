{
 "cells": [
  {
   "cell_type": "code",
   "execution_count": 10,
   "id": "ac19a34c-93e4-4561-a54b-e46432828c99",
   "metadata": {},
   "outputs": [
    {
     "name": "stdout",
     "output_type": "stream",
     "text": [
      "Hola\n"
     ]
    }
   ],
   "source": [
    "def saludo():\n",
    "    print(\"Hola\")\n",
    "\n",
    "saludo()"
   ]
  },
  {
   "cell_type": "code",
   "execution_count": 12,
   "id": "e2141661-83b8-4746-b05c-472199c0d1fb",
   "metadata": {},
   "outputs": [
    {
     "name": "stdout",
     "output_type": "stream",
     "text": [
      "Hola Juan\n"
     ]
    }
   ],
   "source": [
    "def saludo_nombre(nombre):\n",
    "    print(\"Hola \" + nombre)\n",
    "\n",
    "saludo_nombre(\"Juan\")"
   ]
  },
  {
   "cell_type": "code",
   "execution_count": 14,
   "id": "d0547632-b3e1-4e93-b446-2bb0da91ee0a",
   "metadata": {},
   "outputs": [
    {
     "name": "stdout",
     "output_type": "stream",
     "text": [
      "12.5664\n"
     ]
    }
   ],
   "source": [
    "## Area de un circulo\n",
    "def area_circulo(radio):\n",
    "    area = 3.1416 * radio ** 2\n",
    "    return area\n",
    "\n",
    "mi_area = area_circulo(2)\n",
    "print(mi_area)"
   ]
  },
  {
   "cell_type": "code",
   "execution_count": 16,
   "id": "ab8f3a24-bbd2-49bd-bbaa-fe47806b9eb8",
   "metadata": {},
   "outputs": [
    {
     "data": {
      "text/plain": [
       "8"
      ]
     },
     "execution_count": 16,
     "metadata": {},
     "output_type": "execute_result"
    }
   ],
   "source": [
    "## Con def indicamos una funcion y a continuacion le damos nombre a la funcion para identificarla y asi a continuacion\n",
    "## darle la serie de funciones que queremos que realice\n",
    "## (X1, X2) son las dos variables que queremos utiliar\n",
    "# RETURN le indicamos que nos regresa la funcion de x,1 * x2\n",
    "# Y al ultimo invocamos al PRODUCTO dandole valores a las variables x1 = 2  x2 = 4\n",
    "\n",
    "def producto(x1, x2):\n",
    "    return x1 * x2\n",
    "\n",
    "producto(2,4)"
   ]
  },
  {
   "cell_type": "code",
   "execution_count": 23,
   "id": "bd8b5fc4-013d-4d6d-be91-552b45f7f466",
   "metadata": {},
   "outputs": [
    {
     "name": "stdout",
     "output_type": "stream",
     "text": [
      "5\n"
     ]
    }
   ],
   "source": [
    "## Funcion con Valores pre-determinados\n",
    "## Aqui solo le dimos valor pre-determinado a \"B\" para que a la hora de traer el resultado le indicaramos el valor a \"A\"\n",
    "# Y asi nos realise la suma de las dos variables\n",
    "\n",
    "\n",
    "def suma(a, b = 3):\n",
    "\n",
    "    return a + b\n",
    "\n",
    "Resultado = suma(2)\n",
    "print(Resultado)"
   ]
  },
  {
   "cell_type": "code",
   "execution_count": 25,
   "id": "beaa594b-e754-4b28-8fc3-be513d6b7b27",
   "metadata": {},
   "outputs": [
    {
     "ename": "NameError",
     "evalue": "name 'x' is not defined",
     "output_type": "error",
     "traceback": [
      "\u001b[1;31m---------------------------------------------------------------------------\u001b[0m",
      "\u001b[1;31mNameError\u001b[0m                                 Traceback (most recent call last)",
      "Cell \u001b[1;32mIn[25], line 6\u001b[0m\n\u001b[0;32m      3\u001b[0m     x \u001b[38;5;241m=\u001b[39m numero \u001b[38;5;241m*\u001b[39m \u001b[38;5;241m2\u001b[39m\n\u001b[0;32m      4\u001b[0m     \u001b[38;5;28;01mreturn\u001b[39;00m x\n\u001b[1;32m----> 6\u001b[0m \u001b[38;5;28mprint\u001b[39m(x)\n",
      "\u001b[1;31mNameError\u001b[0m: name 'x' is not defined"
     ]
    }
   ],
   "source": [
    "## Es importante saber que la Variable dentro de una funcion no la puedo ejecutar por si sola\n",
    "## \"X\"\n",
    "def duplica(numero):\n",
    "    x = numero * 2\n",
    "    return x\n",
    "\n",
    "print(x)"
   ]
  },
  {
   "cell_type": "code",
   "execution_count": 27,
   "id": "3f1ee000-564b-4ab8-9c3f-0ba8644ce361",
   "metadata": {},
   "outputs": [
    {
     "name": "stdout",
     "output_type": "stream",
     "text": [
      "20\n"
     ]
    }
   ],
   "source": [
    "## Esta es la fomra correta de traer a la Funcion\n",
    "\n",
    "def duplica(numero):\n",
    "    x = numero * 2\n",
    "    return x\n",
    "\n",
    "print(duplica(10))"
   ]
  },
  {
   "cell_type": "code",
   "execution_count": 33,
   "id": "8103cf30-6a5e-4d4e-aba4-0fe41c7d0e06",
   "metadata": {},
   "outputs": [
    {
     "name": "stdout",
     "output_type": "stream",
     "text": [
      "Mi mejor amigo es Linus\n"
     ]
    }
   ],
   "source": [
    "## De esta forma con \"*\" le indicamos a la funcion que la variable obtendra mas de un parametro\n",
    "\n",
    "def mi_funcion(*amigos):\n",
    "    print(\"Mi mejor amigo es \" + amigos[2])\n",
    "\n",
    "mi_funcion(\"Pedro\", \"Jose\", \"Linus\", \"Jaun\")"
   ]
  },
  {
   "cell_type": "code",
   "execution_count": 35,
   "id": "5499b90a-58c4-4915-bcb2-19d288662d01",
   "metadata": {},
   "outputs": [
    {
     "name": "stdout",
     "output_type": "stream",
     "text": [
      "El chico mas joven es Emil\n"
     ]
    }
   ],
   "source": [
    "## EL orden en el cual le damos valores o parametros a las variables no es un limitante de izquiera a derecha\n",
    "def chicos(chico1, chico2, chico3):\n",
    "    print(\"El chico mas joven es \" + chico3)\n",
    "chicos(chico3 = \"Emil\", chico1 = \"Tobias\", chico2 = \"Armando\")"
   ]
  },
  {
   "cell_type": "code",
   "execution_count": 7,
   "id": "bb620396-0041-4a1c-9040-db6706607d95",
   "metadata": {},
   "outputs": [
    {
     "name": "stdout",
     "output_type": "stream",
     "text": [
      "El apellido es Suerez\n"
     ]
    }
   ],
   "source": [
    "## Los dos \"**\" significa que vamos a manejar una especie de Diccionario pero atraves de funciones\n",
    "\n",
    "def apellido(**chico):\n",
    "    print(\"El apellido es \" + chico[\"apellido\"])\n",
    "\n",
    "apellido(npila = \"Juan\", apellido = \"Suerez\", edad = 15)"
   ]
  },
  {
   "cell_type": "code",
   "execution_count": 9,
   "id": "87833e63-7fcb-4ca1-b882-c67277646693",
   "metadata": {},
   "outputs": [
    {
     "name": "stdout",
     "output_type": "stream",
     "text": [
      "Soy de Argentina\n",
      "Soy de Mexico\n"
     ]
    }
   ],
   "source": [
    "# esta no es una forma correcta de utilizar ya que no le pedimos que nos traiga la variable sola \n",
    "# si no que tambien traemos la funcion sola y la variable\n",
    "def pais(country = \"Mexico\"):\n",
    "    print(\"Soy de \" + country)\n",
    "\n",
    "pais(\"Argentina\")\n",
    "pais()"
   ]
  },
  {
   "cell_type": "code",
   "execution_count": 11,
   "id": "f1d45409-cbaf-4800-a320-1dd860e7271d",
   "metadata": {},
   "outputs": [],
   "source": [
    "## De esta fomr podemos posponer una idea dejando la funcion activa sin arrojar un error\n",
    "-def funcion():\n",
    "    pass\n",
    "\n",
    "funcion()"
   ]
  },
  {
   "cell_type": "code",
   "execution_count": 23,
   "id": "13520037-c618-46e6-958c-150f02ac5e6d",
   "metadata": {},
   "outputs": [
    {
     "name": "stdout",
     "output_type": "stream",
     "text": [
      "Manzana\n",
      "Fresa\n",
      "Sandia\n"
     ]
    }
   ],
   "source": [
    "## Pase de listas en funciones\n",
    "def lista_comida(comida):\n",
    "    for x in comida:\n",
    "        print(x)\n",
    "\n",
    "frutas = [\"Manzana\", \"Fresa\", \"Sandia\"]\n",
    "lista_comida(frutas)"
   ]
  },
  {
   "cell_type": "code",
   "execution_count": 31,
   "id": "48bd2a91-b447-4a38-9fd6-26c9b64d9fc2",
   "metadata": {},
   "outputs": [
    {
     "data": {
      "text/plain": [
       "[5, 10, 15, 20, 25, 30, 35, 40, 45, 50]"
      ]
     },
     "execution_count": 31,
     "metadata": {},
     "output_type": "execute_result"
    }
   ],
   "source": [
    "## De esta forma iniciamos una serie de funciones con la funcion DEf le damos una variable nombrada TABLA_DEL donde su valor es el NUMERO\n",
    "# a lo que pasamos a Su resultado dando nuevamente una variable con valor en cero\n",
    "# Con FOR inciamos el ciclo para que multiplique con la variable \"i\" en el cual con RANGE le indicamos de que numero a que numero querenmos que \n",
    "#multiplique. le otorgamos del 1 al 11 por que el ultimo numero no lo ejecuta\n",
    "## RESULTADPS.APPEND hacemos que append sirva opara \"Adjuntarar\" resultados de variables. Entre parentesis le damos la instruccion que queremos\n",
    "#que realize le dimos el numero multiplicado por la variable \"i\" donde la variable \"i\" ya tiene indicado el ciclo por realizar\n",
    "# RETURN hacemos que nos regrese el resultado que habiamos dejado en blanco\n",
    "# Para asi solo darle Valor a la variable \"TABLA_DEL\".\n",
    "\n",
    "\n",
    "def tabla_del(numero):\n",
    "    resultados = []\n",
    "    for i in range(1,11):\n",
    "        resultados.append(numero * i)\n",
    "    return resultados\n",
    "tabla_del(5)"
   ]
  },
  {
   "cell_type": "code",
   "execution_count": 33,
   "id": "b2877bb4-ea90-4ccd-ba03-600adb87054e",
   "metadata": {},
   "outputs": [
    {
     "name": "stdout",
     "output_type": "stream",
     "text": [
      "[1, 2, 3, 4, 5, 6, 7, 8, 9, 10]\n",
      "[2, 4, 6, 8, 10, 12, 14, 16, 18, 20]\n",
      "[3, 6, 9, 12, 15, 18, 21, 24, 27, 30]\n",
      "[4, 8, 12, 16, 20, 24, 28, 32, 36, 40]\n",
      "[5, 10, 15, 20, 25, 30, 35, 40, 45, 50]\n",
      "[6, 12, 18, 24, 30, 36, 42, 48, 54, 60]\n",
      "[7, 14, 21, 28, 35, 42, 49, 56, 63, 70]\n",
      "[8, 16, 24, 32, 40, 48, 56, 64, 72, 80]\n",
      "[9, 18, 27, 36, 45, 54, 63, 72, 81, 90]\n",
      "[10, 20, 30, 40, 50, 60, 70, 80, 90, 100]\n"
     ]
    }
   ],
   "source": [
    "## De esta forma le indicamos con For un nuevo ciclo en el cual le otorgamos una variable sin valor pero con RANGE le \n",
    "#indicamos que nos enumere el valor del 1 al 10 el la variable VALOR\n",
    "# Para asi solo imprimir la Variable \"TABLA_DEL\" (que es la serie de instrucciones que queremos que realize sobre La variable VALOR\n",
    "#y la variable VALOR tiene un ciclo dentro con FOR en el cual RANGE le dara el valor del 1 al 10\n",
    "\n",
    "def tabla_del(numero):\n",
    "    resultados = []\n",
    "    for i in range(1,11):\n",
    "        resultados.append(numero * i)\n",
    "    return resultados\n",
    "\n",
    "for valor in range(1,11):\n",
    "    print(tabla_del(valor))"
   ]
  },
  {
   "cell_type": "code",
   "execution_count": 39,
   "id": "ef70ae70-c81e-4cba-92ec-2d7d26baa7a8",
   "metadata": {},
   "outputs": [
    {
     "name": "stdout",
     "output_type": "stream",
     "text": [
      "True\n"
     ]
    }
   ],
   "source": [
    "## Iniciamos una serie de funciones llamada \"PALINDROMO\" con una variable llamada \"CADENA\"\n",
    "# Hacemos dos variables llamadas \"IZQ\" y \"DER\" en el cual a la variable \"IZQ\" le damos el valor de 0 es que es donde queremos que inicie\n",
    "#y a la variable \"DER\" le indicamos sivalor es de toda la longitud del valor de la variable Cadena pero menos -1\n",
    "# Iniciamos un ciclo con WHILE en el cual accionara si \"DER\" es igual O mayor que \"IZQ\"\n",
    "# En caso que no sean iguales los valores de las variables \"IZQ\" y \"DEF\" se detendra con la Funcion \"IF NOT\"\n",
    "# Y nos regresara la respuesta FALSE con la funcion \"RETURN FALSE\"\n",
    "# pero en caso de que no sea el caso de que no sean los Valores iguales la maquina se ira hasta la variable \"IZQ\" donde tendra que avanzar de \n",
    "##izquierda a derecha aumentando en 1 unidad la posicion \"IZQUIERDA += 1\" y en el caso de la \"DER\" la tenemos que decrementar \"DERECHA -= 1\"\n",
    "# Si este es el caso nos arrojara \"RETURN TRUE\"\n",
    "# Ahorra solo imprimimos la serie de funciones con el valor de la varible Cadena que va a ejecutar en todas estas funciones\n",
    "\n",
    "def Palindromo(cadena):\n",
    "    izquierda = 0\n",
    "    derecha = len(cadena) - 1\n",
    "    while derecha >= izquierda:\n",
    "        if not (cadena[izquierda] == cadena[derecha]):\n",
    "            return False\n",
    "        izquierda += 1\n",
    "        derecha -= 1\n",
    "    return True\n",
    "    \n",
    "print(Palindromo(\"rayar\"))"
   ]
  },
  {
   "cell_type": "code",
   "execution_count": 43,
   "id": "ba88c9a6-cca4-4be4-b82b-ddc1e9f3d8d3",
   "metadata": {},
   "outputs": [
    {
     "name": "stdout",
     "output_type": "stream",
     "text": [
      "True\n"
     ]
    }
   ],
   "source": [
    "##Version 2 que resuelve el problema con las Mayusculas\n",
    "# Con la instruccion \".lower()\" hacemos que cada variabe cambie si valor a Minusculas\n",
    "def Palindromo2(cadena):\n",
    "    izquierda = 0\n",
    "    derecha = len(cadena) - 1\n",
    "    while derecha >= izquierda:\n",
    "        if not (cadena[izquierda].lower() == cadena[derecha].lower()):\n",
    "            return False\n",
    "        izquierda += 1\n",
    "        derecha -= 1\n",
    "    return True\n",
    "    \n",
    "print(Palindromo2(\"Rayar\"))"
   ]
  },
  {
   "cell_type": "code",
   "execution_count": 45,
   "id": "b6b54858-fba0-4ae0-a540-11cd0b421596",
   "metadata": {},
   "outputs": [
    {
     "name": "stdout",
     "output_type": "stream",
     "text": [
      "4\n"
     ]
    }
   ],
   "source": [
    "##Funcion tradicional\n",
    "def cuadrado(x):\n",
    "    return x ** 2\n",
    "print(cuadrado(2))"
   ]
  },
  {
   "cell_type": "code",
   "execution_count": 47,
   "id": "6397a6cd-19d6-4b90-bb09-b3771706c0eb",
   "metadata": {},
   "outputs": [
    {
     "name": "stdout",
     "output_type": "stream",
     "text": [
      "4\n"
     ]
    }
   ],
   "source": [
    "## Con la funcion \"LAMBDA\" indicamos que es un funcion y inicial mente le otorgamos el nombre y una variable llamada \"X\" y en seguida\n",
    "# le decimos que queremos que realize sobre esa variable \n",
    "# aqui le indicamos que queremos el vaslor de \"X\" al Cuadrado\n",
    "# Para asi imprimir la Funcion y el valor de X \n",
    "# Ojo es para funciones pequeñas y Anonimas\n",
    "cuadrado = lambda x: x ** 2\n",
    "print(cuadrado(2))"
   ]
  },
  {
   "cell_type": "code",
   "execution_count": 51,
   "id": "ebe082d0-9f67-4c89-8ae8-90682c60d529",
   "metadata": {},
   "outputs": [
    {
     "data": {
      "text/plain": [
       "5"
      ]
     },
     "execution_count": 51,
     "metadata": {},
     "output_type": "execute_result"
    }
   ],
   "source": [
    "suma = lambda x, y: x + y\n",
    "suma(2,3)"
   ]
  },
  {
   "cell_type": "code",
   "execution_count": 53,
   "id": "e3503ac1-05d9-4bf8-865e-7b719773ff44",
   "metadata": {},
   "outputs": [
    {
     "data": {
      "text/plain": [
       "5"
      ]
     },
     "execution_count": 53,
     "metadata": {},
     "output_type": "execute_result"
    }
   ],
   "source": [
    "## De esta forma podemos hacer la operacion de la funcion en Anonimato sin otorgarle nombre a la Funcion\n",
    "(lambda x, y: x + y)(2,3)"
   ]
  },
  {
   "cell_type": "code",
   "execution_count": 2,
   "id": "299ae1b1-03e4-4983-a00e-82e93128a853",
   "metadata": {},
   "outputs": [
    {
     "name": "stdout",
     "output_type": "stream",
     "text": [
      "El doble del numero 15 es 30\n"
     ]
    }
   ],
   "source": [
    "# Ds esta fomra mesclamos dos funciones como es DEF y LAMBDA \n",
    "## primeramente niciamos dandole una fuincion llamada CALCULA con un parametro llamado \"N\" \n",
    "# A continuacion de le indicamos que nos retorne otra funcion con LAMBDA que va a tomar el valor de X y ese valor de x\n",
    "#lo va a multiplicar por \"N\"\n",
    "# Desoues definimos una variables que pasa a ser una funcion de LAMBDA y esta va a llamar a calcula con el valor de 2\n",
    "# ahora imprimimos el dolbe de valor 15 \n",
    "def calcula(n):\n",
    "    return lambda x: x * n\n",
    "\n",
    "resultado = calcula(2)\n",
    "print(\"El doble del numero 15 es\", resultado(15))"
   ]
  },
  {
   "cell_type": "code",
   "execution_count": 6,
   "id": "d19a2578-24f9-4e4a-b0e0-eeb6926e45c9",
   "metadata": {},
   "outputs": [
    {
     "name": "stdout",
     "output_type": "stream",
     "text": [
      "True\n"
     ]
    }
   ],
   "source": [
    "## Iniciamos dandole nombre a la funcion lambda y ahora donde voy a recibir dos textos uno es \"texto\" y el otro en \"X\"\n",
    "# Y ahora damos la instruccion de TRue con IF donde le damos un clico con if de verdadero con True de X y le especificamos\n",
    "#con x.startswith el inicio de la palabra con el Valor de \"Texto\" y de lo contrario con un else nos arroje el False\n",
    "# y con print imprimimos la funcion lambda y le otrogamos los valores \"p\" y \"python\"\n",
    "inicia_con = lambda texto, x: True if x.startswith(texto) else False\n",
    "\n",
    "print(inicia_con(\"p\", \"python\"))"
   ]
  },
  {
   "cell_type": "code",
   "execution_count": null,
   "id": "93e55616-7757-4982-92ab-4fe028aa35c5",
   "metadata": {},
   "outputs": [],
   "source": []
  }
 ],
 "metadata": {
  "kernelspec": {
   "display_name": "Python 3 (ipykernel)",
   "language": "python",
   "name": "python3"
  },
  "language_info": {
   "codemirror_mode": {
    "name": "ipython",
    "version": 3
   },
   "file_extension": ".py",
   "mimetype": "text/x-python",
   "name": "python",
   "nbconvert_exporter": "python",
   "pygments_lexer": "ipython3",
   "version": "3.12.4"
  }
 },
 "nbformat": 4,
 "nbformat_minor": 5
}
