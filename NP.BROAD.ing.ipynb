{
 "cells": [
  {
   "cell_type": "code",
   "execution_count": 2,
   "metadata": {},
   "outputs": [],
   "source": [
    "import numpy as np\n",
    "accidentes = np.array([[0,1,1],\n",
    "                       [1,0,1],\n",
    "                       [1,3,2],\n",
    "                       [2,2,0]])"
   ]
  },
  {
   "cell_type": "markdown",
   "metadata": {},
   "source": [
    "# EJERCICIOS\n",
    "# Mediante el uso de un arreglo numpy determine:\n",
    "# (a) numero total de accidentes durante los  4 años.\n",
    "# (b) numero total de accidentes por area (columna).\n",
    "# (c) el numero total de accidentes por año.\n",
    "# (d) numero maximo y minimo de accidentes por area y año.\n",
    "# (e) el numero promedio de accidentes por area y año"
   ]
  },
  {
   "cell_type": "code",
   "execution_count": 3,
   "metadata": {},
   "outputs": [
    {
     "data": {
      "text/plain": [
       "np.int64(14)"
      ]
     },
     "execution_count": 3,
     "metadata": {},
     "output_type": "execute_result"
    }
   ],
   "source": [
    "# Inciso (a)  # numero total de accidentes durante 4 años\n",
    "# con el comando '.sum' nos da el total del valor de todas las columas\n",
    "accidentes.sum()"
   ]
  },
  {
   "cell_type": "code",
   "execution_count": 4,
   "metadata": {},
   "outputs": [
    {
     "data": {
      "text/plain": [
       "array([4, 6, 4])"
      ]
     },
     "execution_count": 4,
     "metadata": {},
     "output_type": "execute_result"
    }
   ],
   "source": [
    "# Inciso (b)    # numero total de accidentes por area (columna)\n",
    "accid_areas = accidentes.sum(axis=0)\n",
    "accid_areas"
   ]
  },
  {
   "cell_type": "code",
   "execution_count": 5,
   "metadata": {},
   "outputs": [
    {
     "name": "stdout",
     "output_type": "stream",
     "text": [
      "los accidentes del area 1:  4\n",
      "los accidentes del area 2:  6\n",
      "los accidentes del area 3:  4\n"
     ]
    }
   ],
   "source": [
    "# De esta forma tenemos los resultado mucho mas ordenada\n",
    "print('los accidentes del area 1: ', accid_areas[0])\n",
    "print('los accidentes del area 2: ', accid_areas[1])\n",
    "print('los accidentes del area 3: ', accid_areas[2])"
   ]
  },
  {
   "cell_type": "code",
   "execution_count": 6,
   "metadata": {},
   "outputs": [
    {
     "data": {
      "text/plain": [
       "array([2, 2, 6, 4])"
      ]
     },
     "execution_count": 6,
     "metadata": {},
     "output_type": "execute_result"
    }
   ],
   "source": [
    "# inciso (c)  # numero total de accidentes por año\n",
    "accid_anios = accidentes.sum(axis=1)\n",
    "accid_anios"
   ]
  },
  {
   "cell_type": "code",
   "execution_count": 7,
   "metadata": {},
   "outputs": [
    {
     "data": {
      "text/plain": [
       "array([[2],\n",
       "       [2],\n",
       "       [6],\n",
       "       [4]])"
      ]
     },
     "execution_count": 7,
     "metadata": {},
     "output_type": "execute_result"
    }
   ],
   "source": [
    "# Conservacion de dimenciones para evitar confunciones\n",
    "accid_anios = accidentes.sum(axis=1, keepdims=True)\n",
    "accid_anios "
   ]
  },
  {
   "cell_type": "code",
   "execution_count": 8,
   "metadata": {},
   "outputs": [
    {
     "name": "stdout",
     "output_type": "stream",
     "text": [
      "accidentes del año 1:  [2]\n",
      "accidentes del año 2:  [2]\n",
      "accidentes del año 3:  [6]\n",
      "accidentes del año 4:  [4]\n"
     ]
    }
   ],
   "source": [
    "# De esta forma lo visualisamos de mejor manera.  # \n",
    "print('accidentes del año 1: ', accid_anios[0])\n",
    "print('accidentes del año 2: ', accid_anios[1])\n",
    "print('accidentes del año 3: ', accid_anios[2])\n",
    "print('accidentes del año 4: ', accid_anios[3])"
   ]
  },
  {
   "cell_type": "code",
   "execution_count": 9,
   "metadata": {},
   "outputs": [
    {
     "name": "stdout",
     "output_type": "stream",
     "text": [
      "maximo de accidentes: 3\n",
      "minimo de accidentes: 0\n"
     ]
    }
   ],
   "source": [
    "# Inciso (d)  # numero maximo y minimo de accidentes por area y año.\n",
    "maximo = accidentes.max()\n",
    "minimo = accidentes.min()\n",
    "print(f'maximo de accidentes: {maximo}')\n",
    "print(f'minimo de accidentes: {minimo}')"
   ]
  },
  {
   "cell_type": "code",
   "execution_count": 10,
   "metadata": {},
   "outputs": [
    {
     "name": "stdout",
     "output_type": "stream",
     "text": [
      "promedio de accidentes: 1.1666666666666667\n"
     ]
    }
   ],
   "source": [
    "# Inciso (e)  # el numero promedio de accidentes por area y año\n",
    "promedio = accidentes.mean()\n",
    "print(f'promedio de accidentes: {promedio}')"
   ]
  },
  {
   "cell_type": "markdown",
   "metadata": {},
   "source": [
    "# Operaciones vectorizadas\n",
    "\n",
    "### (a) un ciclo en python\n",
    "### (b) una funcion vectorizada en Numpy"
   ]
  },
  {
   "cell_type": "code",
   "execution_count": 11,
   "metadata": {},
   "outputs": [
    {
     "name": "stdout",
     "output_type": "stream",
     "text": [
      "2\n",
      "3\n",
      "1\n"
     ]
    }
   ],
   "source": [
    "arreglo = np.array([[1,2,3],\n",
    "                    [4,5,6]])\n",
    "dimenciones = arreglo.shape\n",
    "print(dimenciones[0])  # numero de renglones   '2'\n",
    "print(dimenciones[1])   # numero de columnas      '3'\n",
    "print(arreglo[0][0])    # primer elemento de todo el arreglo     '1'"
   ]
  },
  {
   "cell_type": "code",
   "execution_count": 12,
   "metadata": {},
   "outputs": [
    {
     "name": "stdout",
     "output_type": "stream",
     "text": [
      "[[4. 5. 6.]\n",
      " [7. 8. 9.]]\n",
      "tiempo total de ejecucion (segs.\n"
     ]
    },
    {
     "data": {
      "text/plain": [
       "(None, 0.0)"
      ]
     },
     "execution_count": 12,
     "metadata": {},
     "output_type": "execute_result"
    }
   ],
   "source": [
    "# Inciso (a)    # un ciclo en python\n",
    "import time\n",
    "inicio = time.time()\n",
    "arreglo_final = np.zeros((2,3))\n",
    "for renglones in range(dimenciones[0]):\n",
    "    for columnas in range(dimenciones[1]):\n",
    "        arreglo_final[renglones][columnas] = arreglo[renglones][columnas] + 3\n",
    "print(arreglo_final)\n",
    "\n",
    "fin = time.time()\n",
    "print('tiempo total de ejecucion (segs.'), fin - inicio"
   ]
  },
  {
   "cell_type": "code",
   "execution_count": 13,
   "metadata": {},
   "outputs": [
    {
     "name": "stdout",
     "output_type": "stream",
     "text": [
      "[[4 5 6]\n",
      " [7 8 9]]\n",
      "tiempo total de ejecucion (segs.\n"
     ]
    },
    {
     "data": {
      "text/plain": [
       "(None, 0.0010857582092285156)"
      ]
     },
     "execution_count": 13,
     "metadata": {},
     "output_type": "execute_result"
    }
   ],
   "source": [
    "# Inciso (b)    # una funcion vectorizada en Numpy\n",
    "import time\n",
    "inicio = time.time()\n",
    "\n",
    "arreglo_final = arreglo + 3\n",
    "print(arreglo_final)\n",
    "\n",
    "fin = time.time()\n",
    "print('tiempo total de ejecucion (segs.'), fin - inicio"
   ]
  },
  {
   "cell_type": "markdown",
   "metadata": {},
   "source": [
    "### Broadcasting"
   ]
  },
  {
   "cell_type": "code",
   "execution_count": 14,
   "metadata": {},
   "outputs": [
    {
     "data": {
      "text/plain": [
       "array([[ 3,  6,  9],\n",
       "       [12, 15, 18]])"
      ]
     },
     "execution_count": 14,
     "metadata": {},
     "output_type": "execute_result"
    }
   ],
   "source": [
    "# Multiplicacion por un Escalar\n",
    "arreglo_prod = arreglo * 3\n",
    "arreglo_prod"
   ]
  },
  {
   "cell_type": "code",
   "execution_count": 15,
   "metadata": {},
   "outputs": [
    {
     "data": {
      "text/plain": [
       "array([[ 8, 10, 12],\n",
       "       [14, 16, 18]])"
      ]
     },
     "execution_count": 15,
     "metadata": {},
     "output_type": "execute_result"
    }
   ],
   "source": [
    "# Adicion de Dos arreglos\n",
    "arreglo1 = np.array([[1,2,3],\n",
    "                     [4,5,6]])\n",
    "arreglo2 = np.array([[7,8,9],\n",
    "                     [10,11,12]])\n",
    "arreglo3 = arreglo1 + arreglo2 \n",
    "arreglo3"
   ]
  },
  {
   "cell_type": "code",
   "execution_count": 16,
   "metadata": {},
   "outputs": [
    {
     "data": {
      "text/plain": [
       "array([[False, False,  True],\n",
       "       [ True,  True,  True]])"
      ]
     },
     "execution_count": 16,
     "metadata": {},
     "output_type": "execute_result"
    }
   ],
   "source": [
    "# Evaluacion de condiciones\n",
    "arreglo1 = np.array([[1,2,3],\n",
    "                     [4,5,6]])\n",
    "arreglo1 > 2 "
   ]
  },
  {
   "cell_type": "code",
   "execution_count": 17,
   "metadata": {},
   "outputs": [
    {
     "data": {
      "text/plain": [
       "False"
      ]
     },
     "execution_count": 17,
     "metadata": {},
     "output_type": "execute_result"
    }
   ],
   "source": [
    "# Las funciones de python no estan vectorizadas de origen\n",
    "# la funcion 'len' no esta factorizada de origen\n",
    "# pero se puede factorizar\n",
    "arreglo = np.array(['Numpy', 'Pandas', 'vetorizacion'])\n",
    "len(arreglo) > 5"
   ]
  },
  {
   "cell_type": "code",
   "execution_count": 18,
   "metadata": {},
   "outputs": [
    {
     "data": {
      "text/plain": [
       "array([False,  True,  True])"
      ]
     },
     "execution_count": 18,
     "metadata": {},
     "output_type": "execute_result"
    }
   ],
   "source": [
    "# Tranformacion para vectorizacion la funcion 'len'\n",
    "len_vectorizada = np.vectorize(len)\n",
    "len_vectorizada(arreglo) > 5"
   ]
  },
  {
   "cell_type": "code",
   "execution_count": 19,
   "metadata": {},
   "outputs": [
    {
     "data": {
      "text/plain": [
       "array([[0, 1, 2, 3, 4],\n",
       "       [5, 6, 7, 8, 9]])"
      ]
     },
     "execution_count": 19,
     "metadata": {},
     "output_type": "execute_result"
    }
   ],
   "source": [
    "# Broadcasting de renglones\n",
    "arreglo = np.arange(10).reshape((2,5))\n",
    "arreglo"
   ]
  },
  {
   "cell_type": "code",
   "execution_count": 20,
   "metadata": {},
   "outputs": [
    {
     "data": {
      "text/plain": [
       "array([[ 0,  2,  4,  6,  8],\n",
       "       [ 5,  7,  9, 11, 13]])"
      ]
     },
     "execution_count": 20,
     "metadata": {},
     "output_type": "execute_result"
    }
   ],
   "source": [
    "# De esta froma le sumamos los valores al oprimer y segundo renglon \n",
    "# Broadcasting en suma de renglones\n",
    "arreglo + np.array([0,1,2,3,4])"
   ]
  },
  {
   "cell_type": "code",
   "execution_count": 21,
   "metadata": {},
   "outputs": [
    {
     "data": {
      "text/plain": [
       "array([[ 0,  1,  2,  3,  4],\n",
       "       [ 6,  7,  8,  9, 10]])"
      ]
     },
     "execution_count": 21,
     "metadata": {},
     "output_type": "execute_result"
    }
   ],
   "source": [
    "# Broadcasting de columnas\n",
    "# 'NP.ARRAY(0,1)' Indica los valores que queremos que sean sumados\n",
    "# 'RESHAPE(2,1)' indicamos primero el numero de renglones que queremos darle valores y el numero de columnas que usaremos en este caso es una. \n",
    "arreglo = np.arange(10).reshape((2,5))\n",
    "arreglo + np.array([0,1]).reshape((2,1))"
   ]
  },
  {
   "cell_type": "code",
   "execution_count": 22,
   "metadata": {},
   "outputs": [
    {
     "ename": "SyntaxError",
     "evalue": "invalid syntax (3247072668.py, line 2)",
     "output_type": "error",
     "traceback": [
      "\u001b[1;36m  Cell \u001b[1;32mIn[22], line 2\u001b[1;36m\u001b[0m\n\u001b[1;33m    arreglo + np.array([0,1]) pass\u001b[0m\n\u001b[1;37m                              ^\u001b[0m\n\u001b[1;31mSyntaxError\u001b[0m\u001b[1;31m:\u001b[0m invalid syntax\n"
     ]
    }
   ],
   "source": [
    "# Ejemplo de error\n",
    "arreglo + np.array([0,1]) pass "
   ]
  },
  {
   "cell_type": "code",
   "execution_count": 23,
   "metadata": {},
   "outputs": [
    {
     "data": {
      "text/plain": [
       "array([[4.3, 4.2, 4.1],\n",
       "       [2.3, 2.2, 2.1],\n",
       "       [1.3, 1.2, 1.1]])"
      ]
     },
     "execution_count": 23,
     "metadata": {},
     "output_type": "execute_result"
    }
   ],
   "source": [
    "# Volteo a un arreglo\n",
    "arreglo = np.array([[1.1,1.2,1.3],\n",
    "                    [2.1,2.2,2.3],\n",
    "                    [4.1,4.2,4.3]])\n",
    "np.flip(arreglo)"
   ]
  },
  {
   "cell_type": "code",
   "execution_count": 24,
   "metadata": {},
   "outputs": [
    {
     "data": {
      "text/plain": [
       "array([[1.1, 2.1, 4.1],\n",
       "       [1.2, 2.2, 4.2],\n",
       "       [1.3, 2.3, 4.3]])"
      ]
     },
     "execution_count": 24,
     "metadata": {},
     "output_type": "execute_result"
    }
   ],
   "source": [
    "# Transposicion de un arreglo\n",
    "arreglo = np.array([[1.1,1.2,1.3],\n",
    "                    [2.1,2.2,2.3],\n",
    "                    [4.1,4.2,4.3]])\n",
    "np.transpose(arreglo)"
   ]
  },
  {
   "cell_type": "code",
   "execution_count": 26,
   "metadata": {},
   "outputs": [
    {
     "data": {
      "text/plain": [
       "array([[ 5, 10],\n",
       "       [30, 40]])"
      ]
     },
     "execution_count": 26,
     "metadata": {},
     "output_type": "execute_result"
    }
   ],
   "source": [
    "# Operacion #1\n",
    "np.array([[1,2], [3,4]]) * np.array([[5],[10]])"
   ]
  },
  {
   "cell_type": "code",
   "execution_count": 29,
   "metadata": {},
   "outputs": [
    {
     "data": {
      "text/plain": [
       "array([[-4, -8],\n",
       "       [-2, -6]])"
      ]
     },
     "execution_count": 29,
     "metadata": {},
     "output_type": "execute_result"
    }
   ],
   "source": [
    "# Operacion #2\n",
    "np.array([[1,2], [3,4]]) - np.array([[5, 10]])"
   ]
  }
 ],
 "metadata": {
  "kernelspec": {
   "display_name": "Python 3",
   "language": "python",
   "name": "python3"
  },
  "language_info": {
   "codemirror_mode": {
    "name": "ipython",
    "version": 3
   },
   "file_extension": ".py",
   "mimetype": "text/x-python",
   "name": "python",
   "nbconvert_exporter": "python",
   "pygments_lexer": "ipython3",
   "version": "3.12.6"
  }
 },
 "nbformat": 4,
 "nbformat_minor": 2
}
