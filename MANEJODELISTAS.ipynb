{
 "cells": [
  {
   "cell_type": "code",
   "execution_count": 12,
   "id": "ee420c45-819c-4aa4-bf78-c30df2566f47",
   "metadata": {},
   "outputs": [
    {
     "data": {
      "text/plain": [
       "['Pedro', 'Juan', 'Jose']"
      ]
     },
     "execution_count": 12,
     "metadata": {},
     "output_type": "execute_result"
    }
   ],
   "source": [
    "# Tipos de listas\n",
    "amigos = [\"Pedro\", \"Juan\", \"Jose\"]\n",
    "amigos"
   ]
  },
  {
   "cell_type": "code",
   "execution_count": 8,
   "id": "60d45e90-4163-4f97-a713-40fcd510099b",
   "metadata": {},
   "outputs": [
    {
     "data": {
      "text/plain": [
       "['rojo', '15', [2, 9]]"
      ]
     },
     "execution_count": 8,
     "metadata": {},
     "output_type": "execute_result"
    }
   ],
   "source": [
    "elementos = [\"rojo\", \"15\", [2,9]]\n",
    "elementos"
   ]
  },
  {
   "cell_type": "code",
   "execution_count": 14,
   "id": "48b6de52-100d-40a0-acfe-8a5d85aa8eef",
   "metadata": {},
   "outputs": [
    {
     "name": "stdout",
     "output_type": "stream",
     "text": [
      "Juan\n"
     ]
    }
   ],
   "source": [
    "print(amigos[1])"
   ]
  },
  {
   "cell_type": "code",
   "execution_count": 16,
   "id": "2233c8d6-5c68-49ec-a137-9202a0a558e8",
   "metadata": {},
   "outputs": [
    {
     "data": {
      "text/plain": [
       "['Pedro', 'Juan', 'Jesus']"
      ]
     },
     "execution_count": 16,
     "metadata": {},
     "output_type": "execute_result"
    }
   ],
   "source": [
    "# Modificacion de listas\n",
    "amigos_cercanos = amigos\n",
    "amigos_cercanos[2] = \"Jesus\"\n",
    "amigos_cercanos"
   ]
  },
  {
   "cell_type": "code",
   "execution_count": 18,
   "id": "f6c59c8f-a658-475c-8eb1-37fd0414ac4a",
   "metadata": {},
   "outputs": [
    {
     "data": {
      "text/plain": [
       "3"
      ]
     },
     "execution_count": 18,
     "metadata": {},
     "output_type": "execute_result"
    }
   ],
   "source": [
    "# Numero de caracteres en listas\n",
    "longitud = len(amigos)\n",
    "longitud"
   ]
  },
  {
   "cell_type": "code",
   "execution_count": 20,
   "id": "db0f014d-d426-4aac-85d6-61b120a3e4ce",
   "metadata": {},
   "outputs": [
    {
     "data": {
      "text/plain": [
       "[1, 2, 3, 4, 5, 6]"
      ]
     },
     "execution_count": 20,
     "metadata": {},
     "output_type": "execute_result"
    }
   ],
   "source": [
    "# Concatenacion de listas\n",
    "a = [1,2,3]\n",
    "b = [4,5,6]\n",
    "c = a + b\n",
    "c"
   ]
  },
  {
   "cell_type": "code",
   "execution_count": 22,
   "id": "20858612-2d12-4930-89f5-f4b38f704486",
   "metadata": {},
   "outputs": [
    {
     "data": {
      "text/plain": [
       "[2, 3]"
      ]
     },
     "execution_count": 22,
     "metadata": {},
     "output_type": "execute_result"
    }
   ],
   "source": [
    "# Rebanar listas\n",
    "c[1:3]"
   ]
  },
  {
   "cell_type": "code",
   "execution_count": 24,
   "id": "8c614efa-344c-41f1-8da0-f46b8ae85d61",
   "metadata": {},
   "outputs": [
    {
     "data": {
      "text/plain": [
       "[3, 4, 5, 6]"
      ]
     },
     "execution_count": 24,
     "metadata": {},
     "output_type": "execute_result"
    }
   ],
   "source": [
    "c[2:]"
   ]
  },
  {
   "cell_type": "code",
   "execution_count": 26,
   "id": "ccc9b1ac-bf22-4f8c-9cba-a594bab315f7",
   "metadata": {},
   "outputs": [
    {
     "data": {
      "text/plain": [
       "list"
      ]
     },
     "execution_count": 26,
     "metadata": {},
     "output_type": "execute_result"
    }
   ],
   "source": [
    "type(c)"
   ]
  },
  {
   "cell_type": "code",
   "execution_count": 30,
   "id": "7dc66779-3602-4a85-a5c6-7a959fe4b772",
   "metadata": {},
   "outputs": [
    {
     "data": {
      "text/plain": [
       "['__add__',\n",
       " '__class__',\n",
       " '__class_getitem__',\n",
       " '__contains__',\n",
       " '__delattr__',\n",
       " '__delitem__',\n",
       " '__dir__',\n",
       " '__doc__',\n",
       " '__eq__',\n",
       " '__format__',\n",
       " '__ge__',\n",
       " '__getattribute__',\n",
       " '__getitem__',\n",
       " '__getstate__',\n",
       " '__gt__',\n",
       " '__hash__',\n",
       " '__iadd__',\n",
       " '__imul__',\n",
       " '__init__',\n",
       " '__init_subclass__',\n",
       " '__iter__',\n",
       " '__le__',\n",
       " '__len__',\n",
       " '__lt__',\n",
       " '__mul__',\n",
       " '__ne__',\n",
       " '__new__',\n",
       " '__reduce__',\n",
       " '__reduce_ex__',\n",
       " '__repr__',\n",
       " '__reversed__',\n",
       " '__rmul__',\n",
       " '__setattr__',\n",
       " '__setitem__',\n",
       " '__sizeof__',\n",
       " '__str__',\n",
       " '__subclasshook__',\n",
       " 'append',\n",
       " 'clear',\n",
       " 'copy',\n",
       " 'count',\n",
       " 'extend',\n",
       " 'index',\n",
       " 'insert',\n",
       " 'pop',\n",
       " 'remove',\n",
       " 'reverse',\n",
       " 'sort']"
      ]
     },
     "execution_count": 30,
     "metadata": {},
     "output_type": "execute_result"
    }
   ],
   "source": [
    "# Como saber cuales son los comandos que puedo aplicar en mi lista\n",
    "dir(c)"
   ]
  },
  {
   "cell_type": "code",
   "execution_count": 32,
   "id": "1578836b-9697-4022-aec7-5efea1d8d114",
   "metadata": {},
   "outputs": [
    {
     "data": {
      "text/plain": [
       "[]"
      ]
     },
     "execution_count": 32,
     "metadata": {},
     "output_type": "execute_result"
    }
   ],
   "source": [
    "listado = list()\n",
    "listado"
   ]
  },
  {
   "cell_type": "code",
   "execution_count": 44,
   "id": "e4dab4b3-b042-4b04-b688-04a2111c5bef",
   "metadata": {},
   "outputs": [
    {
     "data": {
      "text/plain": [
       "['libro', 'libro', 100, 'libro', 100, 'libro', 100]"
      ]
     },
     "execution_count": 44,
     "metadata": {},
     "output_type": "execute_result"
    }
   ],
   "source": [
    " # append sirve para añadir valores a las listas\n",
    "listado.append(\"libro\")\n",
    "listado.append(100)\n",
    "listado"
   ]
  },
  {
   "cell_type": "code",
   "execution_count": 46,
   "id": "a109df2c-2fc1-4aae-9a9c-c5d0c917f104",
   "metadata": {},
   "outputs": [
    {
     "data": {
      "text/plain": [
       "['Pedro', 'Juan', 'Jesus']"
      ]
     },
     "execution_count": 46,
     "metadata": {},
     "output_type": "execute_result"
    }
   ],
   "source": [
    "amigos"
   ]
  },
  {
   "cell_type": "code",
   "execution_count": 48,
   "id": "cc673cc5-b966-4200-86e0-193691aa3e47",
   "metadata": {},
   "outputs": [
    {
     "data": {
      "text/plain": [
       "['Jesus', 'Juan', 'Pedro']"
      ]
     },
     "execution_count": 48,
     "metadata": {},
     "output_type": "execute_result"
    }
   ],
   "source": [
    "# Ordenar el contenido de las listas \n",
    "amigos.sort()\n",
    "amigos"
   ]
  },
  {
   "cell_type": "code",
   "execution_count": 50,
   "id": "494128ed-713f-4723-a0e7-8204bea20574",
   "metadata": {},
   "outputs": [
    {
     "name": "stdout",
     "output_type": "stream",
     "text": [
      "6\n"
     ]
    }
   ],
   "source": [
    "# max sirve para saber cual es el maximo de los elementos\n",
    "print(max(c))"
   ]
  },
  {
   "cell_type": "code",
   "execution_count": 52,
   "id": "337c6534-f14a-43f1-9fa5-04fe0deedf60",
   "metadata": {},
   "outputs": [
    {
     "name": "stdout",
     "output_type": "stream",
     "text": [
      "21\n"
     ]
    }
   ],
   "source": [
    "# sum sirve para que nos de la suma de un listado\n",
    "print(sum(c))"
   ]
  },
  {
   "cell_type": "code",
   "execution_count": 56,
   "id": "3ecf14e7-d51d-4a4b-bab4-9fb51f93a23a",
   "metadata": {},
   "outputs": [
    {
     "data": {
      "text/plain": [
       "['jose', 'Claudia', 'Ramiro']"
      ]
     },
     "execution_count": 56,
     "metadata": {},
     "output_type": "execute_result"
    }
   ],
   "source": [
    "# .split nos ayuda a dar orden de las listas y los elementos en ellas\n",
    "amigos = \"jose Claudia Ramiro\"\n",
    "lista_amigos = amigos.split()\n",
    "lista_amigos"
   ]
  },
  {
   "cell_type": "code",
   "execution_count": null,
   "id": "cd59a308-8236-4158-9a74-0b6c225c553a",
   "metadata": {},
   "outputs": [],
   "source": []
  }
 ],
 "metadata": {
  "kernelspec": {
   "display_name": "Python 3 (ipykernel)",
   "language": "python",
   "name": "python3"
  },
  "language_info": {
   "codemirror_mode": {
    "name": "ipython",
    "version": 3
   },
   "file_extension": ".py",
   "mimetype": "text/x-python",
   "name": "python",
   "nbconvert_exporter": "python",
   "pygments_lexer": "ipython3",
   "version": "3.12.4"
  }
 },
 "nbformat": 4,
 "nbformat_minor": 5
}
