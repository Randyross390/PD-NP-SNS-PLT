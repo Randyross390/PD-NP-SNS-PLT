{
 "cells": [
  {
   "cell_type": "code",
   "execution_count": 2,
   "id": "0295e38a-ca05-4f60-b042-822a4ab6ad22",
   "metadata": {},
   "outputs": [
    {
     "name": "stdout",
     "output_type": "stream",
     "text": [
      "4\n",
      "3\n",
      "2\n",
      "1\n",
      "Fin\n"
     ]
    }
   ],
   "source": [
    "## Ciclos while que se mantienen en ejecucion hasta que se vuelve falsa\n",
    "## es peligrosa si no se tiene una condicion faslsa de lo contrario se seguira ejecutando infinidad de veces\n",
    "n = 4\n",
    "while n > 0:\n",
    "    print(n)\n",
    "    n = n - 1\n",
    "print(\"Fin\")"
   ]
  },
  {
   "cell_type": "code",
   "execution_count": 7,
   "id": "a276adec-a400-472d-ace1-cf2cc8551e7e",
   "metadata": {},
   "outputs": [],
   "source": [
    "# ESTE ES UN EJEMPLO DE UN MAL USO DE LA INSTRUCCION WHILE EN EL CUAL OCACIONARA EL COLAPSO DE LA PAGINA DEVIDO A LA INIFIDAD DE VECES \n",
    "# EN LAS QUE SE EJECUTARA LAS LEYENDAS \"UNO\" \"DOS\"\n",
    "\n",
    "# n = 5\n",
    "# while n > 1:\n",
    "#     print(\"uno\")\n",
    "#     print(\"dos\")\n",
    "# print(\"fin\")"
   ]
  },
  {
   "cell_type": "code",
   "execution_count": 9,
   "id": "58c1e3b6-f374-4f75-a335-1582aa40be04",
   "metadata": {},
   "outputs": [
    {
     "name": "stdout",
     "output_type": "stream",
     "text": [
      "Fin\n"
     ]
    }
   ],
   "source": [
    "# este tambien es un mal uso de la intruccion While sin embargo no es peligrosa como la anterior\n",
    "\n",
    "n = 1\n",
    "while n > 1:\n",
    "    prin(\"uno\")\n",
    "    print(\"dos\")\n",
    "print(\"Fin\")"
   ]
  },
  {
   "cell_type": "code",
   "execution_count": 19,
   "id": "f7962faf-3db9-40bd-9d4d-048794010a28",
   "metadata": {},
   "outputs": [
    {
     "name": "stdin",
     "output_type": "stream",
     "text": [
      "Escribe un texto:  hola\n"
     ]
    },
    {
     "name": "stdout",
     "output_type": "stream",
     "text": [
      "linea\n"
     ]
    },
    {
     "name": "stdin",
     "output_type": "stream",
     "text": [
      "Escribe un texto:  adios\n"
     ]
    },
    {
     "name": "stdout",
     "output_type": "stream",
     "text": [
      "linea\n"
     ]
    },
    {
     "name": "stdin",
     "output_type": "stream",
     "text": [
      "Escribe un texto:  Fin\n"
     ]
    },
    {
     "name": "stdout",
     "output_type": "stream",
     "text": [
      "Proceso terminado\n"
     ]
    }
   ],
   "source": [
    "## De esta forma hacemos que la instruccion while acompañado de Break hace que no se detenga\n",
    "# la ejecucion hasta que se le de la leyenda requerida\n",
    "\n",
    "while True:\n",
    "    linea = input(\"Escribe un texto: \")\n",
    "    if linea == \"Fin\":\n",
    "        break\n",
    "    print(\"linea\")\n",
    "print(\"Proceso terminado\")"
   ]
  },
  {
   "cell_type": "code",
   "execution_count": 21,
   "id": "b23ff01f-d6ef-4a3e-984c-d8f40003b978",
   "metadata": {},
   "outputs": [
    {
     "name": "stdin",
     "output_type": "stream",
     "text": [
      "Escribe un texto:  hola\n"
     ]
    },
    {
     "name": "stdout",
     "output_type": "stream",
     "text": [
      "hola\n"
     ]
    },
    {
     "name": "stdin",
     "output_type": "stream",
     "text": [
      "Escribe un texto:  # Este es un comentario\n",
      "Escribe un texto:  Fin\n"
     ]
    },
    {
     "name": "stdout",
     "output_type": "stream",
     "text": [
      "Proceso terminado\n"
     ]
    }
   ],
   "source": [
    "# 1 la opcion True es importante para que siempre entremos al ciclo\n",
    "# 2 es importante simpre poner True con la T en mayusculas\n",
    "# 3 CONTINIA HACE CASO OMISO EN CASO DE ESCRIBIR LA LEYENDA QUE REQUIRA ESTA MISMA\n",
    "# 4 de esta forma le indicamos con \"Continue\" a que si se escribe con su leyenda \"#\" siga ejecutando el input de nuevo\n",
    "# pero si se llega a escribir la leyenda \"Fin\" de la instruccion Break esta detendra el proceso y imprimira la leyenda \"Proceso terminado\"\n",
    "\n",
    "while True:\n",
    "    linea = input(\"Escribe un texto: \")\n",
    "    if linea[0] == \"#\":\n",
    "        continue\n",
    "    if linea == \"Fin\":\n",
    "        break\n",
    "    print(linea)\n",
    "print(\"Proceso terminado\")"
   ]
  },
  {
   "cell_type": "code",
   "execution_count": 25,
   "id": "fd0197a6-0761-4cac-a83e-41a398bb795c",
   "metadata": {},
   "outputs": [
    {
     "name": "stdout",
     "output_type": "stream",
     "text": [
      "1\n",
      "2\n",
      "3\n",
      "4\n",
      "5\n",
      "i ya no es mayor a 6\n"
     ]
    }
   ],
   "source": [
    "i = 1\n",
    "while i < 6:\n",
    "    print(i)\n",
    "    i += 1\n",
    "else:\n",
    "    print(\"i ya no es mayor a 6\")"
   ]
  },
  {
   "cell_type": "code",
   "execution_count": 6,
   "id": "9bfd156d-bbe5-428b-aa16-b91b3c30c649",
   "metadata": {},
   "outputs": [
    {
     "name": "stdin",
     "output_type": "stream",
     "text": [
      "Captura el valor de n:  4\n"
     ]
    },
    {
     "name": "stdout",
     "output_type": "stream",
     "text": [
      "La suma es  10\n"
     ]
    }
   ],
   "source": [
    "n = int(input(\"Captura el valor de n: \"))\n",
    "\n",
    "suma = 0\n",
    "i = 1\n",
    "\n",
    "while i <= n:\n",
    "    suma += i\n",
    "    i += 1\n",
    "    \n",
    "print(\"La suma es \", suma)"
   ]
  },
  {
   "cell_type": "code",
   "execution_count": 2,
   "id": "cc7ea5a7-010a-4b04-bffb-aed611c65bb0",
   "metadata": {},
   "outputs": [
    {
     "name": "stdout",
     "output_type": "stream",
     "text": [
      "c\n",
      "b\n",
      "a\n"
     ]
    },
    {
     "data": {
      "text/plain": [
       "[]"
      ]
     },
     "execution_count": 2,
     "metadata": {},
     "output_type": "execute_result"
    }
   ],
   "source": [
    " # De esta forma hacemos que la instruccion While elimine el contenido de las listas de derecha a izquierda \n",
    "lista = [\"a\", \"b\", \"c\"]\n",
    "while lista:\n",
    "    print(lista.pop(-1))\n",
    "lista"
   ]
  },
  {
   "cell_type": "code",
   "execution_count": 4,
   "id": "541b392a-80d3-4a47-b1fc-da23808b2ce7",
   "metadata": {},
   "outputs": [
    {
     "name": "stdout",
     "output_type": "stream",
     "text": [
      "4\n",
      "3\n",
      "2\n",
      "1\n",
      "0\n"
     ]
    }
   ],
   "source": [
    "# De esta forma le indicamos a while que nos reste de 1 en 1 el valor de la variable N\n",
    "n = 5\n",
    "while n > 0: n -= 1; print(n)"
   ]
  },
  {
   "cell_type": "code",
   "execution_count": 14,
   "id": "2060be76-9c96-4774-b405-dae62e873a07",
   "metadata": {},
   "outputs": [
    {
     "name": "stdout",
     "output_type": "stream",
     "text": [
      "numero de valores pares:  4\n",
      "numero de valores impares:  5\n"
     ]
    }
   ],
   "source": [
    "numeros = (1,2,3,4,5,6,7,8,9)\n",
    "valores = len(numeros)\n",
    "impares = 0\n",
    "pares = 0\n",
    "\n",
    "contador = 1\n",
    "while contador <= valores:\n",
    "    if numeros[contador - 1] % 2 == 0:\n",
    "        pares += 1\n",
    "    else:\n",
    "        impares += 1\n",
    "    contador += 1\n",
    "print(\"numero de valores pares: \", pares)\n",
    "print(\"numero de valores impares: \", impares)"
   ]
  },
  {
   "cell_type": "code",
   "execution_count": 20,
   "id": "6e5ecebb-c82e-4b33-95a7-85dc53765b86",
   "metadata": {},
   "outputs": [
    {
     "name": "stdout",
     "output_type": "stream",
     "text": [
      "0\n",
      "1\n",
      "1\n",
      "2\n",
      "3\n",
      "5\n",
      "8\n",
      "13\n",
      "21\n",
      "34\n"
     ]
    }
   ],
   "source": [
    "x, y = 0, 1\n",
    "print(x)\n",
    "print(y)\n",
    "\n",
    "while x + y < 50:\n",
    "    x = x + y\n",
    "    print(x)\n",
    "    y = x + y\n",
    "    print(y)"
   ]
  },
  {
   "cell_type": "code",
   "execution_count": 22,
   "id": "abe0a974-5027-4659-a5c2-5e115cff0c3e",
   "metadata": {},
   "outputs": [
    {
     "name": "stdout",
     "output_type": "stream",
     "text": [
      "0\n",
      "1\n",
      "1\n",
      "2\n",
      "3\n",
      "5\n",
      "8\n",
      "13\n",
      "21\n",
      "34\n"
     ]
    }
   ],
   "source": [
    "# Esta es otra forma de hacer el ejercicio anterior\n",
    "\n",
    "x, y = 0, 1\n",
    "print(x)\n",
    "\n",
    "while y < 50:\n",
    "    print(y)\n",
    "    x, y = y, x + y"
   ]
  },
  {
   "cell_type": "code",
   "execution_count": null,
   "id": "6575e709-3d88-4a2c-b8bd-a9926ef6ba69",
   "metadata": {},
   "outputs": [],
   "source": []
  }
 ],
 "metadata": {
  "kernelspec": {
   "display_name": "Python 3 (ipykernel)",
   "language": "python",
   "name": "python3"
  },
  "language_info": {
   "codemirror_mode": {
    "name": "ipython",
    "version": 3
   },
   "file_extension": ".py",
   "mimetype": "text/x-python",
   "name": "python",
   "nbconvert_exporter": "python",
   "pygments_lexer": "ipython3",
   "version": "3.12.4"
  }
 },
 "nbformat": 4,
 "nbformat_minor": 5
}
