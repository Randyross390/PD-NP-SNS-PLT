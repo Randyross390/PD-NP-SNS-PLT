{
 "cells": [
  {
   "cell_type": "code",
   "execution_count": 2,
   "id": "878aff9e-26ed-40a1-98f9-4bc348ea04fc",
   "metadata": {},
   "outputs": [
    {
     "data": {
      "text/plain": [
       "{}"
      ]
     },
     "execution_count": 2,
     "metadata": {},
     "output_type": "execute_result"
    }
   ],
   "source": [
    "elementos = dict()\n",
    "elementos"
   ]
  },
  {
   "cell_type": "code",
   "execution_count": 4,
   "id": "d795e5e5-0755-44f3-9213-8f31a22898bf",
   "metadata": {},
   "outputs": [
    {
     "data": {
      "text/plain": [
       "{'Dinero': 1000, 'Dulces': 20, 'Amigos': 5}"
      ]
     },
     "execution_count": 4,
     "metadata": {},
     "output_type": "execute_result"
    }
   ],
   "source": [
    "elementos[\"Dinero\"] = 1000\n",
    "elementos[\"Dulces\"] = 20\n",
    "elementos[\"Amigos\"] = 5\n",
    "elementos"
   ]
  },
  {
   "cell_type": "code",
   "execution_count": 6,
   "id": "d9af10f3-eff3-4084-9c10-a84f73f7dc1c",
   "metadata": {},
   "outputs": [
    {
     "data": {
      "text/plain": [
       "20"
      ]
     },
     "execution_count": 6,
     "metadata": {},
     "output_type": "execute_result"
    }
   ],
   "source": [
    "## Como mostrar un elemnto en particular\n",
    "elementos[\"Dulces\"]"
   ]
  },
  {
   "cell_type": "code",
   "execution_count": 8,
   "id": "208beb0f-0056-4779-802a-4247177b76e9",
   "metadata": {},
   "outputs": [
    {
     "data": {
      "text/plain": [
       "[20]"
      ]
     },
     "execution_count": 8,
     "metadata": {},
     "output_type": "execute_result"
    }
   ],
   "source": [
    "## en el caso de las listas\n",
    "lista = list()\n",
    "lista.append(20)\n",
    "lista"
   ]
  },
  {
   "cell_type": "code",
   "execution_count": 12,
   "id": "20886d7c-5fec-4fa9-ab8e-8f3120219951",
   "metadata": {},
   "outputs": [
    {
     "data": {
      "text/plain": [
       "{'Edad': 45}"
      ]
     },
     "execution_count": 12,
     "metadata": {},
     "output_type": "execute_result"
    }
   ],
   "source": [
    "## #Diccionario se abre con  \"{ }\" \n",
    "diccionario = {}\n",
    "diccionario[\"Edad\"] = 45\n",
    "diccionario"
   ]
  },
  {
   "cell_type": "code",
   "execution_count": 14,
   "id": "3ae1d67a-ea4d-423b-90d0-70408dbcc70c",
   "metadata": {},
   "outputs": [
    {
     "data": {
      "text/plain": [
       "{'Juan': 2, 'Pedro': 1, 'Ramiro': 1}"
      ]
     },
     "execution_count": 14,
     "metadata": {},
     "output_type": "execute_result"
    }
   ],
   "source": [
    "conteo =dict()\n",
    "nombres = [\"Juan\", \"Pedro\", \"Juan\", \"Ramiro\"]\n",
    "## Para cada nombre en la lista de nombres\n",
    "## Checar si el nobre ya existe o esta contabilizado en el diccinario llamado conteo \n",
    "## si el nombre no esta en la lista inicialisar su frecuenbcia en 1\n",
    "## en caso contrario (que ya esta en la lista) incrementar su frecuencia en 1\n",
    "for nombre in nombres:\n",
    "    if nombre not in conteo:\n",
    "        conteo[nombre] = 1\n",
    "    else:\n",
    "        conteo[nombre] = conteo[nombre] + 1\n",
    "conteo"
   ]
  },
  {
   "cell_type": "code",
   "execution_count": 16,
   "id": "1b2d97e8-96bf-4e9d-9b8b-3877fb68f6a8",
   "metadata": {},
   "outputs": [
    {
     "data": {
      "text/plain": [
       "<_io.TextIOWrapper name='TRABALENGUAS22.txt' mode='r' encoding='cp1252'>"
      ]
     },
     "execution_count": 16,
     "metadata": {},
     "output_type": "execute_result"
    }
   ],
   "source": [
    "## De esta forma podernos cargar un archiv0 \".txt\"\n",
    "archivo = open(\"TRABALENGUAS22.txt\")\n",
    "archivo"
   ]
  },
  {
   "cell_type": "code",
   "execution_count": 18,
   "id": "f0cf1bfa-f0c7-4d4f-bcf3-d3e4484c327f",
   "metadata": {},
   "outputs": [
    {
     "data": {
      "text/plain": [
       "['El',\n",
       " 'amor',\n",
       " 'es',\n",
       " 'una',\n",
       " 'locura',\n",
       " 'que',\n",
       " 'ni',\n",
       " 'el',\n",
       " 'cura',\n",
       " 'lo',\n",
       " 'cura.',\n",
       " 'Por',\n",
       " 'que',\n",
       " 'si',\n",
       " 'el',\n",
       " 'cura',\n",
       " 'lo',\n",
       " 'cura',\n",
       " 'seria',\n",
       " 'una',\n",
       " 'locura',\n",
       " 'del',\n",
       " 'cura.']"
      ]
     },
     "execution_count": 18,
     "metadata": {},
     "output_type": "execute_result"
    }
   ],
   "source": [
    "for texto in archivo:\n",
    "    palabras = texto.split()\n",
    "palabras"
   ]
  },
  {
   "cell_type": "code",
   "execution_count": 20,
   "id": "17955440-f684-4d92-9869-ad46958cc917",
   "metadata": {},
   "outputs": [
    {
     "data": {
      "text/plain": [
       "{'El': 1,\n",
       " 'amor': 1,\n",
       " 'es': 1,\n",
       " 'una': 2,\n",
       " 'locura': 2,\n",
       " 'que': 2,\n",
       " 'ni': 1,\n",
       " 'el': 2,\n",
       " 'cura': 3,\n",
       " 'lo': 2,\n",
       " 'cura.': 2,\n",
       " 'Por': 1,\n",
       " 'si': 1,\n",
       " 'seria': 1,\n",
       " 'del': 1}"
      ]
     },
     "execution_count": 20,
     "metadata": {},
     "output_type": "execute_result"
    }
   ],
   "source": [
    "conteo =dict()\n",
    "for nombre in palabras:\n",
    "    if nombre not in conteo:\n",
    "        conteo[nombre] = 1\n",
    "    else:\n",
    "        conteo[nombre] = conteo[nombre] + 1\n",
    "conteo"
   ]
  },
  {
   "cell_type": "code",
   "execution_count": null,
   "id": "b6ee657c-8f50-4321-90d7-09f70e1f7b11",
   "metadata": {},
   "outputs": [],
   "source": []
  }
 ],
 "metadata": {
  "kernelspec": {
   "display_name": "Python 3 (ipykernel)",
   "language": "python",
   "name": "python3"
  },
  "language_info": {
   "codemirror_mode": {
    "name": "ipython",
    "version": 3
   },
   "file_extension": ".py",
   "mimetype": "text/x-python",
   "name": "python",
   "nbconvert_exporter": "python",
   "pygments_lexer": "ipython3",
   "version": "3.12.4"
  }
 },
 "nbformat": 4,
 "nbformat_minor": 5
}
