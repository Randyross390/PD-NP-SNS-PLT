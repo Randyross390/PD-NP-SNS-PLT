{
 "cells": [
  {
   "cell_type": "code",
   "execution_count": 2,
   "id": "ab4103c2-0b48-499e-be17-d8b5219683ac",
   "metadata": {},
   "outputs": [
    {
     "data": {
      "text/plain": [
       "array([[1, 2, 3],\n",
       "       [4, 5, 6],\n",
       "       [7, 8, 9]])"
      ]
     },
     "execution_count": 2,
     "metadata": {},
     "output_type": "execute_result"
    }
   ],
   "source": [
    "# importacion de la libreria NUMPY\n",
    "import numpy\n",
    "# creacion de un ARREGLO\n",
    "arreglo = numpy.array([[1,2,3], [4,5,6], [7,8,9]])\n",
    "arreglo"
   ]
  },
  {
   "cell_type": "code",
   "execution_count": 6,
   "id": "7fd00e7e-ec01-4ed8-8878-aebbe76ea619",
   "metadata": {},
   "outputs": [
    {
     "data": {
      "text/plain": [
       "array([[1, 2, 3],\n",
       "       [4, 5, 6],\n",
       "       [7, 8, 9]])"
      ]
     },
     "execution_count": 6,
     "metadata": {},
     "output_type": "execute_result"
    }
   ],
   "source": [
    "##De esta forma le damos un ALIAS a NUMPY\n",
    "import numpy as np\n",
    "arreglo = np.array([[1,2,3], [4,5,6], [7,8,9]])\n",
    "arreglo"
   ]
  },
  {
   "cell_type": "code",
   "execution_count": 8,
   "id": "2440775b-e1c5-4e57-b386-3b497b83f7ee",
   "metadata": {},
   "outputs": [
    {
     "data": {
      "text/html": [
       "<div>\n",
       "<style scoped>\n",
       "    .dataframe tbody tr th:only-of-type {\n",
       "        vertical-align: middle;\n",
       "    }\n",
       "\n",
       "    .dataframe tbody tr th {\n",
       "        vertical-align: top;\n",
       "    }\n",
       "\n",
       "    .dataframe thead th {\n",
       "        text-align: right;\n",
       "    }\n",
       "</style>\n",
       "<table border=\"1\" class=\"dataframe\">\n",
       "  <thead>\n",
       "    <tr style=\"text-align: right;\">\n",
       "      <th></th>\n",
       "      <th>0</th>\n",
       "      <th>1</th>\n",
       "      <th>2</th>\n",
       "    </tr>\n",
       "  </thead>\n",
       "  <tbody>\n",
       "    <tr>\n",
       "      <th>0</th>\n",
       "      <td>1</td>\n",
       "      <td>2</td>\n",
       "      <td>3</td>\n",
       "    </tr>\n",
       "    <tr>\n",
       "      <th>1</th>\n",
       "      <td>4</td>\n",
       "      <td>5</td>\n",
       "      <td>6</td>\n",
       "    </tr>\n",
       "    <tr>\n",
       "      <th>2</th>\n",
       "      <td>7</td>\n",
       "      <td>8</td>\n",
       "      <td>9</td>\n",
       "    </tr>\n",
       "  </tbody>\n",
       "</table>\n",
       "</div>"
      ],
      "text/plain": [
       "   0  1  2\n",
       "0  1  2  3\n",
       "1  4  5  6\n",
       "2  7  8  9"
      ]
     },
     "execution_count": 8,
     "metadata": {},
     "output_type": "execute_result"
    }
   ],
   "source": [
    "import pandas as pd\n",
    "# Creacion de un DataFrame\n",
    "df = pd.DataFrame(arreglo)\n",
    "df"
   ]
  },
  {
   "cell_type": "code",
   "execution_count": 12,
   "id": "5c6cb915-361a-40c8-a308-b30688c91126",
   "metadata": {},
   "outputs": [
    {
     "data": {
      "text/html": [
       "<div>\n",
       "<style scoped>\n",
       "    .dataframe tbody tr th:only-of-type {\n",
       "        vertical-align: middle;\n",
       "    }\n",
       "\n",
       "    .dataframe tbody tr th {\n",
       "        vertical-align: top;\n",
       "    }\n",
       "\n",
       "    .dataframe thead th {\n",
       "        text-align: right;\n",
       "    }\n",
       "</style>\n",
       "<table border=\"1\" class=\"dataframe\">\n",
       "  <thead>\n",
       "    <tr style=\"text-align: right;\">\n",
       "      <th></th>\n",
       "      <th>D</th>\n",
       "      <th>E</th>\n",
       "      <th>F</th>\n",
       "    </tr>\n",
       "  </thead>\n",
       "  <tbody>\n",
       "    <tr>\n",
       "      <th>A</th>\n",
       "      <td>1</td>\n",
       "      <td>2</td>\n",
       "      <td>3</td>\n",
       "    </tr>\n",
       "    <tr>\n",
       "      <th>B</th>\n",
       "      <td>4</td>\n",
       "      <td>5</td>\n",
       "      <td>6</td>\n",
       "    </tr>\n",
       "    <tr>\n",
       "      <th>C</th>\n",
       "      <td>7</td>\n",
       "      <td>8</td>\n",
       "      <td>9</td>\n",
       "    </tr>\n",
       "  </tbody>\n",
       "</table>\n",
       "</div>"
      ],
      "text/plain": [
       "   D  E  F\n",
       "A  1  2  3\n",
       "B  4  5  6\n",
       "C  7  8  9"
      ]
     },
     "execution_count": 12,
     "metadata": {},
     "output_type": "execute_result"
    }
   ],
   "source": [
    "##Modificacion de las columnas del DataFrame\n",
    "# 'INDEX' para las columnas en Vertical y 'COLUMNS' para las columnas en Horizontal\n",
    "df = pd.DataFrame(data = arreglo, index = ['A', 'B', 'C'], columns = ['D', 'E', 'F'])\n",
    "df"
   ]
  },
  {
   "cell_type": "code",
   "execution_count": 20,
   "id": "b6968b6b-d3f9-401a-ad53-e757bd941e49",
   "metadata": {},
   "outputs": [
    {
     "data": {
      "text/html": [
       "<div>\n",
       "<style scoped>\n",
       "    .dataframe tbody tr th:only-of-type {\n",
       "        vertical-align: middle;\n",
       "    }\n",
       "\n",
       "    .dataframe tbody tr th {\n",
       "        vertical-align: top;\n",
       "    }\n",
       "\n",
       "    .dataframe thead th {\n",
       "        text-align: right;\n",
       "    }\n",
       "</style>\n",
       "<table border=\"1\" class=\"dataframe\">\n",
       "  <thead>\n",
       "    <tr style=\"text-align: right;\">\n",
       "      <th></th>\n",
       "      <th>D</th>\n",
       "      <th>E</th>\n",
       "      <th>F</th>\n",
       "    </tr>\n",
       "  </thead>\n",
       "  <tbody>\n",
       "    <tr>\n",
       "      <th>A</th>\n",
       "      <td>1</td>\n",
       "      <td>2</td>\n",
       "      <td>3</td>\n",
       "    </tr>\n",
       "    <tr>\n",
       "      <th>B</th>\n",
       "      <td>4</td>\n",
       "      <td>5</td>\n",
       "      <td>6</td>\n",
       "    </tr>\n",
       "  </tbody>\n",
       "</table>\n",
       "</div>"
      ],
      "text/plain": [
       "   D  E  F\n",
       "A  1  2  3\n",
       "B  4  5  6"
      ]
     },
     "execution_count": 20,
     "metadata": {},
     "output_type": "execute_result"
    }
   ],
   "source": [
    "## Seccion superior (ENCABEZADO)\n",
    "df.head(2)"
   ]
  },
  {
   "cell_type": "code",
   "execution_count": 22,
   "id": "720a8408-ec7f-4ab8-89c5-b39a79029a54",
   "metadata": {},
   "outputs": [
    {
     "name": "stdout",
     "output_type": "stream",
     "text": [
      "<class 'pandas.core.frame.DataFrame'>\n",
      "Index: 3 entries, A to C\n",
      "Data columns (total 3 columns):\n",
      " #   Column  Non-Null Count  Dtype\n",
      "---  ------  --------------  -----\n",
      " 0   D       3 non-null      int32\n",
      " 1   E       3 non-null      int32\n",
      " 2   F       3 non-null      int32\n",
      "dtypes: int32(3)\n",
      "memory usage: 60.0+ bytes\n"
     ]
    }
   ],
   "source": [
    "## Informacion de cada Columna\n",
    "df.info()"
   ]
  },
  {
   "cell_type": "code",
   "execution_count": 24,
   "id": "069e8839-3770-4548-991f-d4df710fbda7",
   "metadata": {},
   "outputs": [
    {
     "data": {
      "text/plain": [
       "(3, 3)"
      ]
     },
     "execution_count": 24,
     "metadata": {},
     "output_type": "execute_result"
    }
   ],
   "source": [
    "##Dimencion del DataFrame\n",
    "df.shape"
   ]
  },
  {
   "cell_type": "code",
   "execution_count": 26,
   "id": "4baebbe2-9444-423e-af24-8943862523a0",
   "metadata": {},
   "outputs": [
    {
     "data": {
      "text/html": [
       "<div>\n",
       "<style scoped>\n",
       "    .dataframe tbody tr th:only-of-type {\n",
       "        vertical-align: middle;\n",
       "    }\n",
       "\n",
       "    .dataframe tbody tr th {\n",
       "        vertical-align: top;\n",
       "    }\n",
       "\n",
       "    .dataframe thead th {\n",
       "        text-align: right;\n",
       "    }\n",
       "</style>\n",
       "<table border=\"1\" class=\"dataframe\">\n",
       "  <thead>\n",
       "    <tr style=\"text-align: right;\">\n",
       "      <th></th>\n",
       "      <th>D</th>\n",
       "      <th>E</th>\n",
       "      <th>F</th>\n",
       "    </tr>\n",
       "  </thead>\n",
       "  <tbody>\n",
       "    <tr>\n",
       "      <th>count</th>\n",
       "      <td>3.0</td>\n",
       "      <td>3.0</td>\n",
       "      <td>3.0</td>\n",
       "    </tr>\n",
       "    <tr>\n",
       "      <th>mean</th>\n",
       "      <td>4.0</td>\n",
       "      <td>5.0</td>\n",
       "      <td>6.0</td>\n",
       "    </tr>\n",
       "    <tr>\n",
       "      <th>std</th>\n",
       "      <td>3.0</td>\n",
       "      <td>3.0</td>\n",
       "      <td>3.0</td>\n",
       "    </tr>\n",
       "    <tr>\n",
       "      <th>min</th>\n",
       "      <td>1.0</td>\n",
       "      <td>2.0</td>\n",
       "      <td>3.0</td>\n",
       "    </tr>\n",
       "    <tr>\n",
       "      <th>25%</th>\n",
       "      <td>2.5</td>\n",
       "      <td>3.5</td>\n",
       "      <td>4.5</td>\n",
       "    </tr>\n",
       "    <tr>\n",
       "      <th>50%</th>\n",
       "      <td>4.0</td>\n",
       "      <td>5.0</td>\n",
       "      <td>6.0</td>\n",
       "    </tr>\n",
       "    <tr>\n",
       "      <th>75%</th>\n",
       "      <td>5.5</td>\n",
       "      <td>6.5</td>\n",
       "      <td>7.5</td>\n",
       "    </tr>\n",
       "    <tr>\n",
       "      <th>max</th>\n",
       "      <td>7.0</td>\n",
       "      <td>8.0</td>\n",
       "      <td>9.0</td>\n",
       "    </tr>\n",
       "  </tbody>\n",
       "</table>\n",
       "</div>"
      ],
      "text/plain": [
       "         D    E    F\n",
       "count  3.0  3.0  3.0\n",
       "mean   4.0  5.0  6.0\n",
       "std    3.0  3.0  3.0\n",
       "min    1.0  2.0  3.0\n",
       "25%    2.5  3.5  4.5\n",
       "50%    4.0  5.0  6.0\n",
       "75%    5.5  6.5  7.5\n",
       "max    7.0  8.0  9.0"
      ]
     },
     "execution_count": 26,
     "metadata": {},
     "output_type": "execute_result"
    }
   ],
   "source": [
    "# Calculo de Estadisticas Generales en la Tabla\n",
    "df.describe()"
   ]
  },
  {
   "cell_type": "code",
   "execution_count": 28,
   "id": "a755b2d4-63ad-4e77-8104-e07594ae5707",
   "metadata": {},
   "outputs": [
    {
     "data": {
      "text/plain": [
       "Index(['D', 'E', 'F'], dtype='object')"
      ]
     },
     "execution_count": 28,
     "metadata": {},
     "output_type": "execute_result"
    }
   ],
   "source": [
    "#Nombre de las columnas\n",
    "df.columns"
   ]
  },
  {
   "cell_type": "code",
   "execution_count": 30,
   "id": "8baa6db0-a788-42d5-ad14-ba11ec7b200b",
   "metadata": {},
   "outputs": [
    {
     "data": {
      "text/plain": [
       "Index(['A', 'B', 'C'], dtype='object')"
      ]
     },
     "execution_count": 30,
     "metadata": {},
     "output_type": "execute_result"
    }
   ],
   "source": [
    "# Nombre de los renglones\n",
    "df.index"
   ]
  },
  {
   "cell_type": "code",
   "execution_count": 32,
   "id": "b93b40ae-5570-48a5-be03-5182c676a6eb",
   "metadata": {},
   "outputs": [
    {
     "data": {
      "text/html": [
       "<div>\n",
       "<style scoped>\n",
       "    .dataframe tbody tr th:only-of-type {\n",
       "        vertical-align: middle;\n",
       "    }\n",
       "\n",
       "    .dataframe tbody tr th {\n",
       "        vertical-align: top;\n",
       "    }\n",
       "\n",
       "    .dataframe thead th {\n",
       "        text-align: right;\n",
       "    }\n",
       "</style>\n",
       "<table border=\"1\" class=\"dataframe\">\n",
       "  <thead>\n",
       "    <tr style=\"text-align: right;\">\n",
       "      <th></th>\n",
       "      <th>D</th>\n",
       "      <th>E</th>\n",
       "      <th>F</th>\n",
       "    </tr>\n",
       "  </thead>\n",
       "  <tbody>\n",
       "    <tr>\n",
       "      <th>A</th>\n",
       "      <td>1</td>\n",
       "      <td>2</td>\n",
       "      <td>3</td>\n",
       "    </tr>\n",
       "    <tr>\n",
       "      <th>B</th>\n",
       "      <td>4</td>\n",
       "      <td>5</td>\n",
       "      <td>6</td>\n",
       "    </tr>\n",
       "    <tr>\n",
       "      <th>C</th>\n",
       "      <td>7</td>\n",
       "      <td>8</td>\n",
       "      <td>9</td>\n",
       "    </tr>\n",
       "    <tr>\n",
       "      <th>G</th>\n",
       "      <td>11</td>\n",
       "      <td>12</td>\n",
       "      <td>13</td>\n",
       "    </tr>\n",
       "  </tbody>\n",
       "</table>\n",
       "</div>"
      ],
      "text/plain": [
       "    D   E   F\n",
       "A   1   2   3\n",
       "B   4   5   6\n",
       "C   7   8   9\n",
       "G  11  12  13"
      ]
     },
     "execution_count": 32,
     "metadata": {},
     "output_type": "execute_result"
    }
   ],
   "source": [
    "# Adicion de un nuevo reglon al DataFrame\n",
    "df.loc['G'] = [11, 12, 13]\n",
    "df"
   ]
  },
  {
   "cell_type": "code",
   "execution_count": 34,
   "id": "5ee8bc37-9c34-4257-b5ea-14e70cc846dd",
   "metadata": {},
   "outputs": [
    {
     "data": {
      "text/html": [
       "<div>\n",
       "<style scoped>\n",
       "    .dataframe tbody tr th:only-of-type {\n",
       "        vertical-align: middle;\n",
       "    }\n",
       "\n",
       "    .dataframe tbody tr th {\n",
       "        vertical-align: top;\n",
       "    }\n",
       "\n",
       "    .dataframe thead th {\n",
       "        text-align: right;\n",
       "    }\n",
       "</style>\n",
       "<table border=\"1\" class=\"dataframe\">\n",
       "  <thead>\n",
       "    <tr style=\"text-align: right;\">\n",
       "      <th></th>\n",
       "      <th>D</th>\n",
       "      <th>E</th>\n",
       "      <th>F</th>\n",
       "      <th>H</th>\n",
       "    </tr>\n",
       "  </thead>\n",
       "  <tbody>\n",
       "    <tr>\n",
       "      <th>A</th>\n",
       "      <td>1</td>\n",
       "      <td>2</td>\n",
       "      <td>3</td>\n",
       "      <td>17</td>\n",
       "    </tr>\n",
       "    <tr>\n",
       "      <th>B</th>\n",
       "      <td>4</td>\n",
       "      <td>5</td>\n",
       "      <td>6</td>\n",
       "      <td>16</td>\n",
       "    </tr>\n",
       "    <tr>\n",
       "      <th>C</th>\n",
       "      <td>7</td>\n",
       "      <td>8</td>\n",
       "      <td>9</td>\n",
       "      <td>15</td>\n",
       "    </tr>\n",
       "    <tr>\n",
       "      <th>G</th>\n",
       "      <td>11</td>\n",
       "      <td>12</td>\n",
       "      <td>13</td>\n",
       "      <td>14</td>\n",
       "    </tr>\n",
       "  </tbody>\n",
       "</table>\n",
       "</div>"
      ],
      "text/plain": [
       "    D   E   F   H\n",
       "A   1   2   3  17\n",
       "B   4   5   6  16\n",
       "C   7   8   9  15\n",
       "G  11  12  13  14"
      ]
     },
     "execution_count": 34,
     "metadata": {},
     "output_type": "execute_result"
    }
   ],
   "source": [
    "## Adicion de una nueva columna\n",
    "df['H'] = [17, 16, 15, 14]\n",
    "df"
   ]
  },
  {
   "cell_type": "code",
   "execution_count": 36,
   "id": "cbb13b75-60a8-41e9-ae76-474ef530e51d",
   "metadata": {},
   "outputs": [
    {
     "data": {
      "text/html": [
       "<div>\n",
       "<style scoped>\n",
       "    .dataframe tbody tr th:only-of-type {\n",
       "        vertical-align: middle;\n",
       "    }\n",
       "\n",
       "    .dataframe tbody tr th {\n",
       "        vertical-align: top;\n",
       "    }\n",
       "\n",
       "    .dataframe thead th {\n",
       "        text-align: right;\n",
       "    }\n",
       "</style>\n",
       "<table border=\"1\" class=\"dataframe\">\n",
       "  <thead>\n",
       "    <tr style=\"text-align: right;\">\n",
       "      <th></th>\n",
       "      <th>E</th>\n",
       "      <th>H</th>\n",
       "    </tr>\n",
       "  </thead>\n",
       "  <tbody>\n",
       "    <tr>\n",
       "      <th>A</th>\n",
       "      <td>2</td>\n",
       "      <td>17</td>\n",
       "    </tr>\n",
       "    <tr>\n",
       "      <th>B</th>\n",
       "      <td>5</td>\n",
       "      <td>16</td>\n",
       "    </tr>\n",
       "    <tr>\n",
       "      <th>C</th>\n",
       "      <td>8</td>\n",
       "      <td>15</td>\n",
       "    </tr>\n",
       "    <tr>\n",
       "      <th>G</th>\n",
       "      <td>12</td>\n",
       "      <td>14</td>\n",
       "    </tr>\n",
       "  </tbody>\n",
       "</table>\n",
       "</div>"
      ],
      "text/plain": [
       "    E   H\n",
       "A   2  17\n",
       "B   5  16\n",
       "C   8  15\n",
       "G  12  14"
      ]
     },
     "execution_count": 36,
     "metadata": {},
     "output_type": "execute_result"
    }
   ],
   "source": [
    "## Extraccion de columnas del DataFrame\n",
    "df2 = df[['E', 'H']]\n",
    "df2"
   ]
  },
  {
   "cell_type": "code",
   "execution_count": 42,
   "id": "30fddec0-319f-42d5-8b57-82d726289f88",
   "metadata": {},
   "outputs": [
    {
     "data": {
      "text/html": [
       "<div>\n",
       "<style scoped>\n",
       "    .dataframe tbody tr th:only-of-type {\n",
       "        vertical-align: middle;\n",
       "    }\n",
       "\n",
       "    .dataframe tbody tr th {\n",
       "        vertical-align: top;\n",
       "    }\n",
       "\n",
       "    .dataframe thead th {\n",
       "        text-align: right;\n",
       "    }\n",
       "</style>\n",
       "<table border=\"1\" class=\"dataframe\">\n",
       "  <thead>\n",
       "    <tr style=\"text-align: right;\">\n",
       "      <th></th>\n",
       "      <th>D</th>\n",
       "      <th>E</th>\n",
       "      <th>F</th>\n",
       "      <th>H</th>\n",
       "    </tr>\n",
       "  </thead>\n",
       "  <tbody>\n",
       "    <tr>\n",
       "      <th>A</th>\n",
       "      <td>1</td>\n",
       "      <td>2</td>\n",
       "      <td>3</td>\n",
       "      <td>17</td>\n",
       "    </tr>\n",
       "    <tr>\n",
       "      <th>B</th>\n",
       "      <td>4</td>\n",
       "      <td>5</td>\n",
       "      <td>6</td>\n",
       "      <td>16</td>\n",
       "    </tr>\n",
       "  </tbody>\n",
       "</table>\n",
       "</div>"
      ],
      "text/plain": [
       "   D  E  F   H\n",
       "A  1  2  3  17\n",
       "B  4  5  6  16"
      ]
     },
     "execution_count": 42,
     "metadata": {},
     "output_type": "execute_result"
    }
   ],
   "source": [
    "##Extraccion de renglones en un DataFrame\n",
    "df3 = df.iloc[0:2] ##Extrae los primero 2 renglones\n",
    "df3"
   ]
  },
  {
   "cell_type": "code",
   "execution_count": 44,
   "id": "50f0a956-bf0a-4645-b70c-1b546b14a93c",
   "metadata": {},
   "outputs": [
    {
     "data": {
      "text/html": [
       "<div>\n",
       "<style scoped>\n",
       "    .dataframe tbody tr th:only-of-type {\n",
       "        vertical-align: middle;\n",
       "    }\n",
       "\n",
       "    .dataframe tbody tr th {\n",
       "        vertical-align: top;\n",
       "    }\n",
       "\n",
       "    .dataframe thead th {\n",
       "        text-align: right;\n",
       "    }\n",
       "</style>\n",
       "<table border=\"1\" class=\"dataframe\">\n",
       "  <thead>\n",
       "    <tr style=\"text-align: right;\">\n",
       "      <th></th>\n",
       "      <th>Columna1</th>\n",
       "      <th>Columna2</th>\n",
       "      <th>Columna3</th>\n",
       "      <th>Columna4</th>\n",
       "    </tr>\n",
       "  </thead>\n",
       "  <tbody>\n",
       "    <tr>\n",
       "      <th>A</th>\n",
       "      <td>1</td>\n",
       "      <td>2</td>\n",
       "      <td>3</td>\n",
       "      <td>17</td>\n",
       "    </tr>\n",
       "    <tr>\n",
       "      <th>B</th>\n",
       "      <td>4</td>\n",
       "      <td>5</td>\n",
       "      <td>6</td>\n",
       "      <td>16</td>\n",
       "    </tr>\n",
       "    <tr>\n",
       "      <th>C</th>\n",
       "      <td>7</td>\n",
       "      <td>8</td>\n",
       "      <td>9</td>\n",
       "      <td>15</td>\n",
       "    </tr>\n",
       "    <tr>\n",
       "      <th>G</th>\n",
       "      <td>11</td>\n",
       "      <td>12</td>\n",
       "      <td>13</td>\n",
       "      <td>14</td>\n",
       "    </tr>\n",
       "  </tbody>\n",
       "</table>\n",
       "</div>"
      ],
      "text/plain": [
       "   Columna1  Columna2  Columna3  Columna4\n",
       "A         1         2         3        17\n",
       "B         4         5         6        16\n",
       "C         7         8         9        15\n",
       "G        11        12        13        14"
      ]
     },
     "execution_count": 44,
     "metadata": {},
     "output_type": "execute_result"
    }
   ],
   "source": [
    "# Cambiar de nombre a todas las comnas\n",
    "df.columns = ['Columna1', 'Columna2', 'Columna3', 'Columna4']\n",
    "df"
   ]
  },
  {
   "cell_type": "code",
   "execution_count": 46,
   "id": "311e0545-9521-4364-a221-58c42c9148c2",
   "metadata": {},
   "outputs": [
    {
     "data": {
      "text/html": [
       "<div>\n",
       "<style scoped>\n",
       "    .dataframe tbody tr th:only-of-type {\n",
       "        vertical-align: middle;\n",
       "    }\n",
       "\n",
       "    .dataframe tbody tr th {\n",
       "        vertical-align: top;\n",
       "    }\n",
       "\n",
       "    .dataframe thead th {\n",
       "        text-align: right;\n",
       "    }\n",
       "</style>\n",
       "<table border=\"1\" class=\"dataframe\">\n",
       "  <thead>\n",
       "    <tr style=\"text-align: right;\">\n",
       "      <th></th>\n",
       "      <th>Column1</th>\n",
       "      <th>Columns2</th>\n",
       "      <th>Columna3</th>\n",
       "      <th>Columna4</th>\n",
       "    </tr>\n",
       "  </thead>\n",
       "  <tbody>\n",
       "    <tr>\n",
       "      <th>A</th>\n",
       "      <td>1</td>\n",
       "      <td>2</td>\n",
       "      <td>3</td>\n",
       "      <td>17</td>\n",
       "    </tr>\n",
       "    <tr>\n",
       "      <th>B</th>\n",
       "      <td>4</td>\n",
       "      <td>5</td>\n",
       "      <td>6</td>\n",
       "      <td>16</td>\n",
       "    </tr>\n",
       "    <tr>\n",
       "      <th>C</th>\n",
       "      <td>7</td>\n",
       "      <td>8</td>\n",
       "      <td>9</td>\n",
       "      <td>15</td>\n",
       "    </tr>\n",
       "    <tr>\n",
       "      <th>G</th>\n",
       "      <td>11</td>\n",
       "      <td>12</td>\n",
       "      <td>13</td>\n",
       "      <td>14</td>\n",
       "    </tr>\n",
       "  </tbody>\n",
       "</table>\n",
       "</div>"
      ],
      "text/plain": [
       "   Column1  Columns2  Columna3  Columna4\n",
       "A        1         2         3        17\n",
       "B        4         5         6        16\n",
       "C        7         8         9        15\n",
       "G       11        12        13        14"
      ]
     },
     "execution_count": 46,
     "metadata": {},
     "output_type": "execute_result"
    }
   ],
   "source": [
    "# Cambio de nombre en ALGUNAS columnas\n",
    "df.rename(columns = {'Columna1': 'Column1', 'Columna2': 'Columns2'}, inplace = True)\n",
    "df"
   ]
  },
  {
   "cell_type": "code",
   "execution_count": 48,
   "id": "7086499f-d1d7-4301-90b3-6af41f6f3f35",
   "metadata": {},
   "outputs": [
    {
     "data": {
      "text/html": [
       "<div>\n",
       "<style scoped>\n",
       "    .dataframe tbody tr th:only-of-type {\n",
       "        vertical-align: middle;\n",
       "    }\n",
       "\n",
       "    .dataframe tbody tr th {\n",
       "        vertical-align: top;\n",
       "    }\n",
       "\n",
       "    .dataframe thead th {\n",
       "        text-align: right;\n",
       "    }\n",
       "</style>\n",
       "<table border=\"1\" class=\"dataframe\">\n",
       "  <thead>\n",
       "    <tr style=\"text-align: right;\">\n",
       "      <th></th>\n",
       "      <th>Column1</th>\n",
       "      <th>Columns2</th>\n",
       "      <th>Columna3</th>\n",
       "      <th>Columna4</th>\n",
       "    </tr>\n",
       "  </thead>\n",
       "  <tbody>\n",
       "    <tr>\n",
       "      <th>Dato1</th>\n",
       "      <td>1</td>\n",
       "      <td>2</td>\n",
       "      <td>3</td>\n",
       "      <td>17</td>\n",
       "    </tr>\n",
       "    <tr>\n",
       "      <th>Dato2</th>\n",
       "      <td>4</td>\n",
       "      <td>5</td>\n",
       "      <td>6</td>\n",
       "      <td>16</td>\n",
       "    </tr>\n",
       "    <tr>\n",
       "      <th>C</th>\n",
       "      <td>7</td>\n",
       "      <td>8</td>\n",
       "      <td>9</td>\n",
       "      <td>15</td>\n",
       "    </tr>\n",
       "    <tr>\n",
       "      <th>G</th>\n",
       "      <td>11</td>\n",
       "      <td>12</td>\n",
       "      <td>13</td>\n",
       "      <td>14</td>\n",
       "    </tr>\n",
       "  </tbody>\n",
       "</table>\n",
       "</div>"
      ],
      "text/plain": [
       "       Column1  Columns2  Columna3  Columna4\n",
       "Dato1        1         2         3        17\n",
       "Dato2        4         5         6        16\n",
       "C            7         8         9        15\n",
       "G           11        12        13        14"
      ]
     },
     "execution_count": 48,
     "metadata": {},
     "output_type": "execute_result"
    }
   ],
   "source": [
    "# Cambio de nombre en renglones\n",
    "df.rename(index = {'A': 'Dato1', 'B': 'Dato2'}, inplace = True)\n",
    "df"
   ]
  },
  {
   "cell_type": "code",
   "execution_count": 50,
   "id": "3110960a-be8d-4375-ab95-08f2312c4569",
   "metadata": {},
   "outputs": [
    {
     "data": {
      "text/html": [
       "<div>\n",
       "<style scoped>\n",
       "    .dataframe tbody tr th:only-of-type {\n",
       "        vertical-align: middle;\n",
       "    }\n",
       "\n",
       "    .dataframe tbody tr th {\n",
       "        vertical-align: top;\n",
       "    }\n",
       "\n",
       "    .dataframe thead th {\n",
       "        text-align: right;\n",
       "    }\n",
       "</style>\n",
       "<table border=\"1\" class=\"dataframe\">\n",
       "  <thead>\n",
       "    <tr style=\"text-align: right;\">\n",
       "      <th></th>\n",
       "      <th>Column1</th>\n",
       "      <th>Columns2</th>\n",
       "      <th>Columna3</th>\n",
       "      <th>Columna4</th>\n",
       "    </tr>\n",
       "  </thead>\n",
       "  <tbody>\n",
       "    <tr>\n",
       "      <th>G</th>\n",
       "      <td>11</td>\n",
       "      <td>12</td>\n",
       "      <td>13</td>\n",
       "      <td>14</td>\n",
       "    </tr>\n",
       "    <tr>\n",
       "      <th>C</th>\n",
       "      <td>7</td>\n",
       "      <td>8</td>\n",
       "      <td>9</td>\n",
       "      <td>15</td>\n",
       "    </tr>\n",
       "    <tr>\n",
       "      <th>Dato2</th>\n",
       "      <td>4</td>\n",
       "      <td>5</td>\n",
       "      <td>6</td>\n",
       "      <td>16</td>\n",
       "    </tr>\n",
       "    <tr>\n",
       "      <th>Dato1</th>\n",
       "      <td>1</td>\n",
       "      <td>2</td>\n",
       "      <td>3</td>\n",
       "      <td>17</td>\n",
       "    </tr>\n",
       "  </tbody>\n",
       "</table>\n",
       "</div>"
      ],
      "text/plain": [
       "       Column1  Columns2  Columna3  Columna4\n",
       "G           11        12        13        14\n",
       "C            7         8         9        15\n",
       "Dato2        4         5         6        16\n",
       "Dato1        1         2         3        17"
      ]
     },
     "execution_count": 50,
     "metadata": {},
     "output_type": "execute_result"
    }
   ],
   "source": [
    "## Ordenamiento del DataFrame\n",
    "df4 = df.sort_values('Columna4', ascending=True)\n",
    "df4"
   ]
  },
  {
   "cell_type": "code",
   "execution_count": 54,
   "id": "6ead4580-ffbe-4489-804c-cce50ef6e9c1",
   "metadata": {},
   "outputs": [
    {
     "data": {
      "text/plain": [
       "Dato1    False\n",
       "Dato2    False\n",
       "C         True\n",
       "G         True\n",
       "Name: Columns2, dtype: bool"
      ]
     },
     "execution_count": 54,
     "metadata": {},
     "output_type": "execute_result"
    }
   ],
   "source": [
    "## Verificacion de Condiciones en DataFrames\n",
    "df['Columns2'] > 5"
   ]
  },
  {
   "cell_type": "code",
   "execution_count": 60,
   "id": "34055acd-8448-44ec-86e7-8de387260258",
   "metadata": {},
   "outputs": [
    {
     "data": {
      "text/html": [
       "<div>\n",
       "<style scoped>\n",
       "    .dataframe tbody tr th:only-of-type {\n",
       "        vertical-align: middle;\n",
       "    }\n",
       "\n",
       "    .dataframe tbody tr th {\n",
       "        vertical-align: top;\n",
       "    }\n",
       "\n",
       "    .dataframe thead th {\n",
       "        text-align: right;\n",
       "    }\n",
       "</style>\n",
       "<table border=\"1\" class=\"dataframe\">\n",
       "  <thead>\n",
       "    <tr style=\"text-align: right;\">\n",
       "      <th></th>\n",
       "      <th>Column1</th>\n",
       "      <th>Columns2</th>\n",
       "      <th>Columna3</th>\n",
       "      <th>Columna4</th>\n",
       "    </tr>\n",
       "  </thead>\n",
       "  <tbody>\n",
       "    <tr>\n",
       "      <th>C</th>\n",
       "      <td>7</td>\n",
       "      <td>8</td>\n",
       "      <td>9</td>\n",
       "      <td>15</td>\n",
       "    </tr>\n",
       "    <tr>\n",
       "      <th>G</th>\n",
       "      <td>11</td>\n",
       "      <td>12</td>\n",
       "      <td>13</td>\n",
       "      <td>14</td>\n",
       "    </tr>\n",
       "  </tbody>\n",
       "</table>\n",
       "</div>"
      ],
      "text/plain": [
       "   Column1  Columns2  Columna3  Columna4\n",
       "C        7         8         9        15\n",
       "G       11        12        13        14"
      ]
     },
     "execution_count": 60,
     "metadata": {},
     "output_type": "execute_result"
    }
   ],
   "source": [
    "df[df[\"Columns2\"] > 5]"
   ]
  },
  {
   "cell_type": "code",
   "execution_count": 66,
   "id": "1a271e5c-7ece-4b49-ba6b-107818ba1d77",
   "metadata": {},
   "outputs": [
    {
     "data": {
      "text/html": [
       "<div>\n",
       "<style scoped>\n",
       "    .dataframe tbody tr th:only-of-type {\n",
       "        vertical-align: middle;\n",
       "    }\n",
       "\n",
       "    .dataframe tbody tr th {\n",
       "        vertical-align: top;\n",
       "    }\n",
       "\n",
       "    .dataframe thead th {\n",
       "        text-align: right;\n",
       "    }\n",
       "</style>\n",
       "<table border=\"1\" class=\"dataframe\">\n",
       "  <thead>\n",
       "    <tr style=\"text-align: right;\">\n",
       "      <th></th>\n",
       "      <th>Column1</th>\n",
       "      <th>Columns2</th>\n",
       "      <th>Columna3</th>\n",
       "      <th>Columna4</th>\n",
       "    </tr>\n",
       "  </thead>\n",
       "  <tbody>\n",
       "    <tr>\n",
       "      <th>Dato2</th>\n",
       "      <td>4</td>\n",
       "      <td>5</td>\n",
       "      <td>6</td>\n",
       "      <td>16</td>\n",
       "    </tr>\n",
       "    <tr>\n",
       "      <th>C</th>\n",
       "      <td>7</td>\n",
       "      <td>8</td>\n",
       "      <td>9</td>\n",
       "      <td>15</td>\n",
       "    </tr>\n",
       "  </tbody>\n",
       "</table>\n",
       "</div>"
      ],
      "text/plain": [
       "       Column1  Columns2  Columna3  Columna4\n",
       "Dato2        4         5         6        16\n",
       "C            7         8         9        15"
      ]
     },
     "execution_count": 66,
     "metadata": {},
     "output_type": "execute_result"
    }
   ],
   "source": [
    "## Condiciones Multiples\n",
    "##Condicion 1 Que cheque que elementos tiene en la columna 1 valores superiores a 1\n",
    "##Condicion 2 que cheque en la columna 2 valores menores a 12\n",
    "\n",
    "condicion1 = df['Column1'] > 1\n",
    "condicion2 = df['Columns2'] < 12\n",
    "df[condicion1 & condicion2]"
   ]
  },
  {
   "cell_type": "code",
   "execution_count": 72,
   "id": "1964b806-6f74-4dd9-b6fd-d10f417e2aba",
   "metadata": {},
   "outputs": [
    {
     "data": {
      "text/plain": [
       "array([['Bella', 'Labrador', 'Cafe', '56', '24', '2013-07-01'],\n",
       "       ['Charlie', 'Poodle', 'Negro', '43', '24', '2016-09-16'],\n",
       "       ['Lucy', 'Chow Chow', 'Cafe', '46', '24', '2014-08-25'],\n",
       "       ['Cooper', 'Schnauzer', 'Gris', '49', '17', '2011-12-11'],\n",
       "       ['Bernie', 'San Bernardo', 'Blanco', '77', '74', '2018-02-27']],\n",
       "      dtype='<U12')"
      ]
     },
     "execution_count": 72,
     "metadata": {},
     "output_type": "execute_result"
    }
   ],
   "source": [
    "arreglo = np.array([['Bella', 'Labrador', 'Cafe', 56, 24, '2013-07-01'],\n",
    "                    ['Charlie', 'Poodle', 'Negro', 43, 24, '2016-09-16'], \n",
    "                    ['Lucy', 'Chow Chow', 'Cafe', 46, 24, '2014-08-25'],\n",
    "                    ['Cooper', 'Schnauzer', 'Gris', 49, 17, '2011-12-11'],\n",
    "                    ['Bernie', 'San Bernardo', 'Blanco', 77, 74, '2018-02-27']])\n",
    "arreglo"
   ]
  },
  {
   "cell_type": "code",
   "execution_count": 74,
   "id": "d5ef839e-8207-4626-8632-d4c7aef2e02b",
   "metadata": {},
   "outputs": [
    {
     "data": {
      "text/html": [
       "<div>\n",
       "<style scoped>\n",
       "    .dataframe tbody tr th:only-of-type {\n",
       "        vertical-align: middle;\n",
       "    }\n",
       "\n",
       "    .dataframe tbody tr th {\n",
       "        vertical-align: top;\n",
       "    }\n",
       "\n",
       "    .dataframe thead th {\n",
       "        text-align: right;\n",
       "    }\n",
       "</style>\n",
       "<table border=\"1\" class=\"dataframe\">\n",
       "  <thead>\n",
       "    <tr style=\"text-align: right;\">\n",
       "      <th></th>\n",
       "      <th>Nombre</th>\n",
       "      <th>Raza</th>\n",
       "      <th>Color</th>\n",
       "      <th>Altura_cm</th>\n",
       "      <th>Peso_kg</th>\n",
       "      <th>Fecha_nac</th>\n",
       "    </tr>\n",
       "  </thead>\n",
       "  <tbody>\n",
       "    <tr>\n",
       "      <th>0</th>\n",
       "      <td>Bella</td>\n",
       "      <td>Labrador</td>\n",
       "      <td>Cafe</td>\n",
       "      <td>56</td>\n",
       "      <td>24</td>\n",
       "      <td>2013-07-01</td>\n",
       "    </tr>\n",
       "    <tr>\n",
       "      <th>1</th>\n",
       "      <td>Charlie</td>\n",
       "      <td>Poodle</td>\n",
       "      <td>Negro</td>\n",
       "      <td>43</td>\n",
       "      <td>24</td>\n",
       "      <td>2016-09-16</td>\n",
       "    </tr>\n",
       "    <tr>\n",
       "      <th>2</th>\n",
       "      <td>Lucy</td>\n",
       "      <td>Chow Chow</td>\n",
       "      <td>Cafe</td>\n",
       "      <td>46</td>\n",
       "      <td>24</td>\n",
       "      <td>2014-08-25</td>\n",
       "    </tr>\n",
       "    <tr>\n",
       "      <th>3</th>\n",
       "      <td>Cooper</td>\n",
       "      <td>Schnauzer</td>\n",
       "      <td>Gris</td>\n",
       "      <td>49</td>\n",
       "      <td>17</td>\n",
       "      <td>2011-12-11</td>\n",
       "    </tr>\n",
       "    <tr>\n",
       "      <th>4</th>\n",
       "      <td>Bernie</td>\n",
       "      <td>San Bernardo</td>\n",
       "      <td>Blanco</td>\n",
       "      <td>77</td>\n",
       "      <td>74</td>\n",
       "      <td>2018-02-27</td>\n",
       "    </tr>\n",
       "  </tbody>\n",
       "</table>\n",
       "</div>"
      ],
      "text/plain": [
       "    Nombre          Raza   Color Altura_cm Peso_kg   Fecha_nac\n",
       "0    Bella      Labrador    Cafe        56      24  2013-07-01\n",
       "1  Charlie        Poodle   Negro        43      24  2016-09-16\n",
       "2     Lucy     Chow Chow    Cafe        46      24  2014-08-25\n",
       "3   Cooper     Schnauzer    Gris        49      17  2011-12-11\n",
       "4   Bernie  San Bernardo  Blanco        77      74  2018-02-27"
      ]
     },
     "execution_count": 74,
     "metadata": {},
     "output_type": "execute_result"
    }
   ],
   "source": [
    "df = pd.DataFrame(data=arreglo, columns=['Nombre', 'Raza', 'Color', 'Altura_cm', 'Peso_kg', 'Fecha_nac'])\n",
    "df"
   ]
  },
  {
   "cell_type": "code",
   "execution_count": 76,
   "id": "63efcc08-6ab2-4567-a06b-e0c2ef9d496e",
   "metadata": {},
   "outputs": [
    {
     "data": {
      "text/html": [
       "<div>\n",
       "<style scoped>\n",
       "    .dataframe tbody tr th:only-of-type {\n",
       "        vertical-align: middle;\n",
       "    }\n",
       "\n",
       "    .dataframe tbody tr th {\n",
       "        vertical-align: top;\n",
       "    }\n",
       "\n",
       "    .dataframe thead th {\n",
       "        text-align: right;\n",
       "    }\n",
       "</style>\n",
       "<table border=\"1\" class=\"dataframe\">\n",
       "  <thead>\n",
       "    <tr style=\"text-align: right;\">\n",
       "      <th></th>\n",
       "      <th>Nombre</th>\n",
       "      <th>Raza</th>\n",
       "      <th>Color</th>\n",
       "      <th>Altura_cm</th>\n",
       "      <th>Peso_kg</th>\n",
       "      <th>Fecha_nac</th>\n",
       "    </tr>\n",
       "  </thead>\n",
       "  <tbody>\n",
       "    <tr>\n",
       "      <th>0</th>\n",
       "      <td>Bella</td>\n",
       "      <td>Labrador</td>\n",
       "      <td>Cafe</td>\n",
       "      <td>56</td>\n",
       "      <td>24</td>\n",
       "      <td>2013-07-01</td>\n",
       "    </tr>\n",
       "    <tr>\n",
       "      <th>2</th>\n",
       "      <td>Lucy</td>\n",
       "      <td>Chow Chow</td>\n",
       "      <td>Cafe</td>\n",
       "      <td>46</td>\n",
       "      <td>24</td>\n",
       "      <td>2014-08-25</td>\n",
       "    </tr>\n",
       "    <tr>\n",
       "      <th>3</th>\n",
       "      <td>Cooper</td>\n",
       "      <td>Schnauzer</td>\n",
       "      <td>Gris</td>\n",
       "      <td>49</td>\n",
       "      <td>17</td>\n",
       "      <td>2011-12-11</td>\n",
       "    </tr>\n",
       "  </tbody>\n",
       "</table>\n",
       "</div>"
      ],
      "text/plain": [
       "   Nombre       Raza Color Altura_cm Peso_kg   Fecha_nac\n",
       "0   Bella   Labrador  Cafe        56      24  2013-07-01\n",
       "2    Lucy  Chow Chow  Cafe        46      24  2014-08-25\n",
       "3  Cooper  Schnauzer  Gris        49      17  2011-12-11"
      ]
     },
     "execution_count": 76,
     "metadata": {},
     "output_type": "execute_result"
    }
   ],
   "source": [
    "# Inciso 1\n",
    "# Extraccion de los Perros cuya fecha de nacimiento es anterior al 1 de enero del 2015\n",
    "df2 = df[df['Fecha_nac'] < '2015-01-01']\n",
    "df2"
   ]
  },
  {
   "cell_type": "code",
   "execution_count": 82,
   "id": "3062d089-3bce-4fd9-a410-025799b379ed",
   "metadata": {},
   "outputs": [],
   "source": [
    "# Inciso 2\n",
    "# Extraer el registro de los perro cuya estatura es mayor a 50 cm\n",
    "# Primero hay que modificar el tipo de dato con el que se registro el peso y el tamaño \n",
    "#ya que se registro como 'CARACTER' \n",
    "# De esta forma cambianmos el Type\n",
    "df['Altura_cm'] = df['Altura_cm'].astype(int)"
   ]
  },
  {
   "cell_type": "code",
   "execution_count": 80,
   "id": "d5ab5ce4-7c73-4868-858e-c506167f179e",
   "metadata": {},
   "outputs": [
    {
     "data": {
      "text/html": [
       "<div>\n",
       "<style scoped>\n",
       "    .dataframe tbody tr th:only-of-type {\n",
       "        vertical-align: middle;\n",
       "    }\n",
       "\n",
       "    .dataframe tbody tr th {\n",
       "        vertical-align: top;\n",
       "    }\n",
       "\n",
       "    .dataframe thead th {\n",
       "        text-align: right;\n",
       "    }\n",
       "</style>\n",
       "<table border=\"1\" class=\"dataframe\">\n",
       "  <thead>\n",
       "    <tr style=\"text-align: right;\">\n",
       "      <th></th>\n",
       "      <th>Nombre</th>\n",
       "      <th>Raza</th>\n",
       "      <th>Color</th>\n",
       "      <th>Altura_cm</th>\n",
       "      <th>Peso_kg</th>\n",
       "      <th>Fecha_nac</th>\n",
       "    </tr>\n",
       "  </thead>\n",
       "  <tbody>\n",
       "    <tr>\n",
       "      <th>0</th>\n",
       "      <td>Bella</td>\n",
       "      <td>Labrador</td>\n",
       "      <td>Cafe</td>\n",
       "      <td>56</td>\n",
       "      <td>24</td>\n",
       "      <td>2013-07-01</td>\n",
       "    </tr>\n",
       "    <tr>\n",
       "      <th>4</th>\n",
       "      <td>Bernie</td>\n",
       "      <td>San Bernardo</td>\n",
       "      <td>Blanco</td>\n",
       "      <td>77</td>\n",
       "      <td>74</td>\n",
       "      <td>2018-02-27</td>\n",
       "    </tr>\n",
       "  </tbody>\n",
       "</table>\n",
       "</div>"
      ],
      "text/plain": [
       "   Nombre          Raza   Color  Altura_cm Peso_kg   Fecha_nac\n",
       "0   Bella      Labrador    Cafe         56      24  2013-07-01\n",
       "4  Bernie  San Bernardo  Blanco         77      74  2018-02-27"
      ]
     },
     "execution_count": 80,
     "metadata": {},
     "output_type": "execute_result"
    }
   ],
   "source": [
    "df[df['Altura_cm']> 50]"
   ]
  },
  {
   "cell_type": "code",
   "execution_count": 90,
   "id": "016421c0-d424-4518-ae56-fa46e3fd8ac7",
   "metadata": {},
   "outputs": [
    {
     "data": {
      "text/html": [
       "<div>\n",
       "<style scoped>\n",
       "    .dataframe tbody tr th:only-of-type {\n",
       "        vertical-align: middle;\n",
       "    }\n",
       "\n",
       "    .dataframe tbody tr th {\n",
       "        vertical-align: top;\n",
       "    }\n",
       "\n",
       "    .dataframe thead th {\n",
       "        text-align: right;\n",
       "    }\n",
       "</style>\n",
       "<table border=\"1\" class=\"dataframe\">\n",
       "  <thead>\n",
       "    <tr style=\"text-align: right;\">\n",
       "      <th></th>\n",
       "      <th>Nombre</th>\n",
       "      <th>Raza</th>\n",
       "      <th>Color</th>\n",
       "      <th>Altura_cm</th>\n",
       "      <th>Peso_kg</th>\n",
       "      <th>Fecha_nac</th>\n",
       "      <th>IMM</th>\n",
       "    </tr>\n",
       "  </thead>\n",
       "  <tbody>\n",
       "    <tr>\n",
       "      <th>0</th>\n",
       "      <td>Bella</td>\n",
       "      <td>Labrador</td>\n",
       "      <td>Cafe</td>\n",
       "      <td>56</td>\n",
       "      <td>24</td>\n",
       "      <td>2013-07-01</td>\n",
       "      <td>76.530612</td>\n",
       "    </tr>\n",
       "    <tr>\n",
       "      <th>1</th>\n",
       "      <td>Charlie</td>\n",
       "      <td>Poodle</td>\n",
       "      <td>Negro</td>\n",
       "      <td>43</td>\n",
       "      <td>24</td>\n",
       "      <td>2016-09-16</td>\n",
       "      <td>129.799892</td>\n",
       "    </tr>\n",
       "    <tr>\n",
       "      <th>2</th>\n",
       "      <td>Lucy</td>\n",
       "      <td>Chow Chow</td>\n",
       "      <td>Cafe</td>\n",
       "      <td>46</td>\n",
       "      <td>24</td>\n",
       "      <td>2014-08-25</td>\n",
       "      <td>113.421550</td>\n",
       "    </tr>\n",
       "    <tr>\n",
       "      <th>3</th>\n",
       "      <td>Cooper</td>\n",
       "      <td>Schnauzer</td>\n",
       "      <td>Gris</td>\n",
       "      <td>49</td>\n",
       "      <td>17</td>\n",
       "      <td>2011-12-11</td>\n",
       "      <td>70.803832</td>\n",
       "    </tr>\n",
       "    <tr>\n",
       "      <th>4</th>\n",
       "      <td>Bernie</td>\n",
       "      <td>San Bernardo</td>\n",
       "      <td>Blanco</td>\n",
       "      <td>77</td>\n",
       "      <td>74</td>\n",
       "      <td>2018-02-27</td>\n",
       "      <td>124.810255</td>\n",
       "    </tr>\n",
       "  </tbody>\n",
       "</table>\n",
       "</div>"
      ],
      "text/plain": [
       "    Nombre          Raza   Color  Altura_cm  Peso_kg   Fecha_nac         IMM\n",
       "0    Bella      Labrador    Cafe         56       24  2013-07-01   76.530612\n",
       "1  Charlie        Poodle   Negro         43       24  2016-09-16  129.799892\n",
       "2     Lucy     Chow Chow    Cafe         46       24  2014-08-25  113.421550\n",
       "3   Cooper     Schnauzer    Gris         49       17  2011-12-11   70.803832\n",
       "4   Bernie  San Bernardo  Blanco         77       74  2018-02-27  124.810255"
      ]
     },
     "execution_count": 90,
     "metadata": {},
     "output_type": "execute_result"
    }
   ],
   "source": [
    "# Inciso 3\n",
    "# Agregar una nueva columna a este DataFrame que calcule el indice de masa muscular (IMM) para cada perro\n",
    "#El cual esta dado por esta formula: IMM = (Peso_kg) / (Altura en metros)2\n",
    "# Igual hay que convertir el Type del dato, de Caracter a entero\n",
    "df['Peso_kg'] = df['Peso_kg'].astype(int)\n",
    "\n",
    "df['IMM'] = df['Peso_kg'] / (df['Altura_cm'] / 100) ** 2\n",
    "df"
   ]
  },
  {
   "cell_type": "code",
   "execution_count": 96,
   "id": "3a7af1d7-e1e8-45f2-b2d8-e4589db4221a",
   "metadata": {},
   "outputs": [
    {
     "data": {
      "text/html": [
       "<div>\n",
       "<style scoped>\n",
       "    .dataframe tbody tr th:only-of-type {\n",
       "        vertical-align: middle;\n",
       "    }\n",
       "\n",
       "    .dataframe tbody tr th {\n",
       "        vertical-align: top;\n",
       "    }\n",
       "\n",
       "    .dataframe thead th {\n",
       "        text-align: right;\n",
       "    }\n",
       "</style>\n",
       "<table border=\"1\" class=\"dataframe\">\n",
       "  <thead>\n",
       "    <tr style=\"text-align: right;\">\n",
       "      <th></th>\n",
       "      <th>Nombre</th>\n",
       "      <th>Raza</th>\n",
       "      <th>IMM</th>\n",
       "    </tr>\n",
       "  </thead>\n",
       "  <tbody>\n",
       "    <tr>\n",
       "      <th>0</th>\n",
       "      <td>Bella</td>\n",
       "      <td>Labrador</td>\n",
       "      <td>76.530612</td>\n",
       "    </tr>\n",
       "    <tr>\n",
       "      <th>1</th>\n",
       "      <td>Charlie</td>\n",
       "      <td>Poodle</td>\n",
       "      <td>129.799892</td>\n",
       "    </tr>\n",
       "    <tr>\n",
       "      <th>2</th>\n",
       "      <td>Lucy</td>\n",
       "      <td>Chow Chow</td>\n",
       "      <td>113.421550</td>\n",
       "    </tr>\n",
       "    <tr>\n",
       "      <th>3</th>\n",
       "      <td>Cooper</td>\n",
       "      <td>Schnauzer</td>\n",
       "      <td>70.803832</td>\n",
       "    </tr>\n",
       "    <tr>\n",
       "      <th>4</th>\n",
       "      <td>Bernie</td>\n",
       "      <td>San Bernardo</td>\n",
       "      <td>124.810255</td>\n",
       "    </tr>\n",
       "  </tbody>\n",
       "</table>\n",
       "</div>"
      ],
      "text/plain": [
       "    Nombre          Raza         IMM\n",
       "0    Bella      Labrador   76.530612\n",
       "1  Charlie        Poodle  129.799892\n",
       "2     Lucy     Chow Chow  113.421550\n",
       "3   Cooper     Schnauzer   70.803832\n",
       "4   Bernie  San Bernardo  124.810255"
      ]
     },
     "execution_count": 96,
     "metadata": {},
     "output_type": "execute_result"
    }
   ],
   "source": [
    "## Otras manipulaciones\n",
    "# Extraccion de las columnas Nombre, Raza y IMM\n",
    "df2 = df[['Nombre', 'Raza', 'IMM']]\n",
    "df2"
   ]
  },
  {
   "cell_type": "code",
   "execution_count": 100,
   "id": "c17e6af4-3767-492e-abcb-8c9a1cb6338b",
   "metadata": {},
   "outputs": [
    {
     "data": {
      "text/html": [
       "<div>\n",
       "<style scoped>\n",
       "    .dataframe tbody tr th:only-of-type {\n",
       "        vertical-align: middle;\n",
       "    }\n",
       "\n",
       "    .dataframe tbody tr th {\n",
       "        vertical-align: top;\n",
       "    }\n",
       "\n",
       "    .dataframe thead th {\n",
       "        text-align: right;\n",
       "    }\n",
       "</style>\n",
       "<table border=\"1\" class=\"dataframe\">\n",
       "  <thead>\n",
       "    <tr style=\"text-align: right;\">\n",
       "      <th></th>\n",
       "      <th>Nombre</th>\n",
       "      <th>Raza</th>\n",
       "      <th>IMM</th>\n",
       "    </tr>\n",
       "  </thead>\n",
       "  <tbody>\n",
       "    <tr>\n",
       "      <th>3</th>\n",
       "      <td>Cooper</td>\n",
       "      <td>Schnauzer</td>\n",
       "      <td>70.803832</td>\n",
       "    </tr>\n",
       "    <tr>\n",
       "      <th>0</th>\n",
       "      <td>Bella</td>\n",
       "      <td>Labrador</td>\n",
       "      <td>76.530612</td>\n",
       "    </tr>\n",
       "    <tr>\n",
       "      <th>2</th>\n",
       "      <td>Lucy</td>\n",
       "      <td>Chow Chow</td>\n",
       "      <td>113.421550</td>\n",
       "    </tr>\n",
       "    <tr>\n",
       "      <th>4</th>\n",
       "      <td>Bernie</td>\n",
       "      <td>San Bernardo</td>\n",
       "      <td>124.810255</td>\n",
       "    </tr>\n",
       "    <tr>\n",
       "      <th>1</th>\n",
       "      <td>Charlie</td>\n",
       "      <td>Poodle</td>\n",
       "      <td>129.799892</td>\n",
       "    </tr>\n",
       "  </tbody>\n",
       "</table>\n",
       "</div>"
      ],
      "text/plain": [
       "    Nombre          Raza         IMM\n",
       "3   Cooper     Schnauzer   70.803832\n",
       "0    Bella      Labrador   76.530612\n",
       "2     Lucy     Chow Chow  113.421550\n",
       "4   Bernie  San Bernardo  124.810255\n",
       "1  Charlie        Poodle  129.799892"
      ]
     },
     "execution_count": 100,
     "metadata": {},
     "output_type": "execute_result"
    }
   ],
   "source": [
    "# De esta Forma ordenamos nuestos Datos requeridos de forma ascendente en volumen de masa\n",
    "df2 = df2.sort_values('IMM', ascending = True)\n",
    "df2"
   ]
  },
  {
   "cell_type": "code",
   "execution_count": null,
   "id": "47e1c103-ce43-4dfe-b53d-98b29db2adfa",
   "metadata": {},
   "outputs": [],
   "source": []
  }
 ],
 "metadata": {
  "kernelspec": {
   "display_name": "Python 3 (ipykernel)",
   "language": "python",
   "name": "python3"
  },
  "language_info": {
   "codemirror_mode": {
    "name": "ipython",
    "version": 3
   },
   "file_extension": ".py",
   "mimetype": "text/x-python",
   "name": "python",
   "nbconvert_exporter": "python",
   "pygments_lexer": "ipython3",
   "version": "3.12.4"
  }
 },
 "nbformat": 4,
 "nbformat_minor": 5
}
