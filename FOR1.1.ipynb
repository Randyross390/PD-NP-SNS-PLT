{
 "cells": [
  {
   "cell_type": "code",
   "execution_count": 4,
   "id": "96d681e2-5f3e-46a0-b4c8-f30c8b05bf89",
   "metadata": {},
   "outputs": [
    {
     "name": "stdout",
     "output_type": "stream",
     "text": [
      "La suma es 48\n"
     ]
    }
   ],
   "source": [
    "# con este comando FOR le indicamos la suma de los valores en la vaiable NUMEROS y le inciamos que nos lo imprima con un print \n",
    "numeros = [6, 5, 3, 8, 4, 2, 5, 4, 11]\n",
    "suma = 0\n",
    "\n",
    "for valor in numeros:\n",
    "    suma = suma + valor\n",
    "\n",
    "print(\"La suma es\", suma)"
   ]
  },
  {
   "cell_type": "code",
   "execution_count": 6,
   "id": "2df7e391-f737-4030-bdc0-5861b0d8fa9a",
   "metadata": {},
   "outputs": [
    {
     "name": "stdout",
     "output_type": "stream",
     "text": [
      "La suma es 48\n"
     ]
    }
   ],
   "source": [
    "# De esta forma le indicamos que nos indique el valor de la variable \"SUMA\"\n",
    "numeros = [6, 5, 3, 8, 4, 2, 5, 4, 11]\n",
    "suma = 0\n",
    "\n",
    "for valor in numeros:\n",
    "    suma = suma + valor\n",
    "\n",
    "print(f\"La suma es {suma}\")"
   ]
  },
  {
   "cell_type": "code",
   "execution_count": 8,
   "id": "b28e43f0-da06-4f43-be62-9363d28b150d",
   "metadata": {},
   "outputs": [
    {
     "name": "stdout",
     "output_type": "stream",
     "text": [
      "manzana\n",
      "fresa\n",
      "cereza\n"
     ]
    }
   ],
   "source": [
    "frutas = [\"manzana\", \"fresa\", \"cereza\"]\n",
    "for fruta in frutas:\n",
    "    print(fruta)"
   ]
  },
  {
   "cell_type": "code",
   "execution_count": 12,
   "id": "70d1b3d5-5d11-4ef1-8478-9338d5decab1",
   "metadata": {},
   "outputs": [
    {
     "name": "stdout",
     "output_type": "stream",
     "text": [
      "p\n",
      "l\n",
      "a\n",
      "t\n",
      "a\n",
      "n\n",
      "o\n"
     ]
    }
   ],
   "source": [
    "for letra in \"platano\":\n",
    "    print(letra)"
   ]
  },
  {
   "cell_type": "code",
   "execution_count": 16,
   "id": "4ba1a5ba-bcb3-4b8f-adb0-6f06d73ec852",
   "metadata": {},
   "outputs": [
    {
     "name": "stdout",
     "output_type": "stream",
     "text": [
      "5\n",
      "7\n",
      "11\n",
      "13\n",
      "tota:  36\n"
     ]
    }
   ],
   "source": [
    "# Aqui le indicamos que realize la busqueda de i y que mientras lo haxce haga la suma de los valores\n",
    "total = 0\n",
    "for i in 5, 7, 11, 13:\n",
    "    print(i)\n",
    "    total += i\n",
    "print(\"tota: \", total)"
   ]
  },
  {
   "cell_type": "code",
   "execution_count": 18,
   "id": "f85b9fb3-31ca-4470-a26b-d79785aa52fc",
   "metadata": {},
   "outputs": [
    {
     "name": "stdout",
     "output_type": "stream",
     "text": [
      "0\n",
      "1\n",
      "2\n",
      "3\n",
      "4\n",
      "5\n"
     ]
    }
   ],
   "source": [
    "for x in range(6):\n",
    "    print(x)"
   ]
  },
  {
   "cell_type": "code",
   "execution_count": 20,
   "id": "2b2a14e6-0155-4371-bcff-9c28a25e544a",
   "metadata": {},
   "outputs": [
    {
     "name": "stdout",
     "output_type": "stream",
     "text": [
      "2\n",
      "3\n",
      "4\n",
      "5\n",
      "6\n",
      "7\n",
      "8\n",
      "9\n"
     ]
    }
   ],
   "source": [
    "# Aqui le indicamos que nos imprima desde un numero requerido hasta un limite\n",
    "for x in range(2, 10):\n",
    "    print(x)"
   ]
  },
  {
   "cell_type": "code",
   "execution_count": 22,
   "id": "2f5686d4-17fe-405f-8867-ffa21692ca50",
   "metadata": {},
   "outputs": [
    {
     "name": "stdout",
     "output_type": "stream",
     "text": [
      "2\n",
      "5\n",
      "8\n"
     ]
    }
   ],
   "source": [
    "for x in range(2,10,3):\n",
    "    print(x)"
   ]
  },
  {
   "cell_type": "code",
   "execution_count": 24,
   "id": "1a74cde8-356e-46f8-8287-644a040d8096",
   "metadata": {},
   "outputs": [
    {
     "name": "stdout",
     "output_type": "stream",
     "text": [
      "0\n",
      "1\n",
      "2\n",
      "3\n",
      "4\n",
      "5\n",
      "Proceso terminado\n"
     ]
    }
   ],
   "source": [
    "for x in range(6):\n",
    "    print(x)\n",
    "else:\n",
    "    print(\"Proceso terminado\")"
   ]
  },
  {
   "cell_type": "code",
   "execution_count": 31,
   "id": "8fc7ca90-5e8b-479e-8ef6-30ca07185409",
   "metadata": {},
   "outputs": [
    {
     "name": "stdout",
     "output_type": "stream",
     "text": [
      "Numero mas grande:  74\n"
     ]
    }
   ],
   "source": [
    "# De esta forma encontramos el valor mas grande de una variable\n",
    "mas_grande = -1\n",
    "for numero in [9, 41, 12, 3, 74, 15]:\n",
    "    if numero > mas_grande:\n",
    "        mas_grande = numero\n",
    "print(\"Numero mas grande: \", mas_grande)"
   ]
  },
  {
   "cell_type": "code",
   "execution_count": 35,
   "id": "629ebdd1-10e8-4a6c-9f71-c8c48d0d4d5f",
   "metadata": {},
   "outputs": [
    {
     "name": "stdout",
     "output_type": "stream",
     "text": [
      "manzana\n",
      "fresa\n"
     ]
    }
   ],
   "source": [
    "# De esta forma le indicamos hasta donde queremos que busque en este caso lo detendrenmos en FRESA\n",
    "frutas = [\"manzana\", \"fresa\", \"cereza\"]\n",
    "for fruta in frutas:\n",
    "    print(fruta)\n",
    "    if fruta == \"fresa\":\n",
    "        break"
   ]
  },
  {
   "cell_type": "code",
   "execution_count": 2,
   "id": "559e889a-58e3-48ef-bedd-918a655e6157",
   "metadata": {},
   "outputs": [
    {
     "name": "stdout",
     "output_type": "stream",
     "text": [
      "0\n",
      "1\n",
      "2\n",
      "3\n",
      "4\n",
      "5\n",
      "Proceso Terminado\n"
     ]
    }
   ],
   "source": [
    "# De esta forma con el comando Else le indicamos que en caso de no encontrar el valor requerido nos imprima PROCESO TERMINADO\n",
    "for x in range(6):\n",
    "    if x == 8: break\n",
    "    print(x)\n",
    "else:\n",
    "    print(\"Proceso Terminado\")"
   ]
  },
  {
   "cell_type": "code",
   "execution_count": 10,
   "id": "9bcee165-ef69-4f0d-a7a3-9ae40396a9bd",
   "metadata": {},
   "outputs": [
    {
     "name": "stdin",
     "output_type": "stream",
     "text": [
      "Nombre del estudiante:  Randi\n"
     ]
    },
    {
     "name": "stdout",
     "output_type": "stream",
     "text": [
      "No se encontro el estudiante solicitado\n"
     ]
    }
   ],
   "source": [
    "nombre = input(\"Nombre del estudiante: \")\n",
    "datos = {\"Jose\" : 85, \"Angela\" : 92, \"Miguel\" : 75, \"Ana\" : 98}\n",
    "\n",
    "for estudiante in datos:\n",
    "    if estudiante == nombre:\n",
    "        print(\"Calificacion : \", datos[estudiante])\n",
    "        break\n",
    "else:\n",
    "    print(\"No se encontro el estudiante solicitado\")"
   ]
  },
  {
   "cell_type": "code",
   "execution_count": 14,
   "id": "b629dd0f-ad9c-42b4-bfc6-39685b11867c",
   "metadata": {},
   "outputs": [
    {
     "name": "stdout",
     "output_type": "stream",
     "text": [
      "manzana roja\n",
      "manzana grande\n",
      "manzana deliciosa\n",
      "fresa roja\n",
      "fresa grande\n",
      "fresa deliciosa\n",
      "cereza roja\n",
      "cereza grande\n",
      "cereza deliciosa\n"
     ]
    }
   ],
   "source": [
    "## De esta forma For nos da las tipos dde combinaciones que se pueden realizar con los valores de las variables\n",
    "frutas = [\"manzana\", \"fresa\", \"cereza\"]\n",
    "adjetivos = [\"roja\", \"grande\", \"deliciosa\"]\n",
    "\n",
    "for fruta in frutas:\n",
    "    for tipo in adjetivos:\n",
    "        print(fruta, tipo)"
   ]
  },
  {
   "cell_type": "code",
   "execution_count": 16,
   "id": "48c1abde-8a59-42d0-a30c-414b4fde33c4",
   "metadata": {},
   "outputs": [
    {
     "name": "stdout",
     "output_type": "stream",
     "text": [
      "40\n",
      "30\n",
      "20\n",
      "10\n"
     ]
    }
   ],
   "source": [
    "# Con esta instruccion \"reversed\" nos imprimira los valores de una variable de DERECHA A IZQUIERDA\n",
    "lista = [10, 20, 30, 40]\n",
    "for numero in reversed(lista):\n",
    "    print(numero)"
   ]
  },
  {
   "cell_type": "code",
   "execution_count": 22,
   "id": "179d2460-0f0c-43e4-ad75-a5dcf875789f",
   "metadata": {},
   "outputs": [
    {
     "name": "stdin",
     "output_type": "stream",
     "text": [
      "# de tablas a calcular:  10\n"
     ]
    },
    {
     "name": "stdout",
     "output_type": "stream",
     "text": [
      "Tabla de multiplicar de: 1\n",
      "1 2 3 4 5 6 7 8 9 10 \n",
      "\n",
      "Tabla de multiplicar de: 1\n",
      "2 4 6 8 10 12 14 16 18 20 \n",
      "\n",
      "Tabla de multiplicar de: 1\n",
      "3 6 9 12 15 18 21 24 27 30 \n",
      "\n",
      "Tabla de multiplicar de: 1\n",
      "4 8 12 16 20 24 28 32 36 40 \n",
      "\n",
      "Tabla de multiplicar de: 1\n",
      "5 10 15 20 25 30 35 40 45 50 \n",
      "\n",
      "Tabla de multiplicar de: 1\n",
      "6 12 18 24 30 36 42 48 54 60 \n",
      "\n",
      "Tabla de multiplicar de: 1\n",
      "7 14 21 28 35 42 49 56 63 70 \n",
      "\n",
      "Tabla de multiplicar de: 1\n",
      "8 16 24 32 40 48 56 64 72 80 \n",
      "\n",
      "Tabla de multiplicar de: 1\n",
      "9 18 27 36 45 54 63 72 81 90 \n",
      "\n",
      "Tabla de multiplicar de: 1\n",
      "10 20 30 40 50 60 70 80 90 100 \n",
      "\n"
     ]
    }
   ],
   "source": [
    "# De esta forma hacemos una secuencia de tablas de multiplicar con el input y cpm la intruccion END hacemos que nos de un espoacio entre ellos\n",
    "# para que sea mas visible\n",
    "tablas = int(input(\"# de tablas a calcular: \"))\n",
    "\n",
    "for i in range(1, tablas + 1):\n",
    "    print(\"Tabla de multiplicar de:\", 1)\n",
    "    contador = 1\n",
    "    while contador < 11:\n",
    "        print(i * contador, end = \" \")\n",
    "        contador += 1\n",
    "    print(\"\\n\")"
   ]
  },
  {
   "cell_type": "code",
   "execution_count": null,
   "id": "8572e4ed-0f8d-43a8-96f3-b5634fcea051",
   "metadata": {},
   "outputs": [],
   "source": []
  }
 ],
 "metadata": {
  "kernelspec": {
   "display_name": "Python 3 (ipykernel)",
   "language": "python",
   "name": "python3"
  },
  "language_info": {
   "codemirror_mode": {
    "name": "ipython",
    "version": 3
   },
   "file_extension": ".py",
   "mimetype": "text/x-python",
   "name": "python",
   "nbconvert_exporter": "python",
   "pygments_lexer": "ipython3",
   "version": "3.12.4"
  }
 },
 "nbformat": 4,
 "nbformat_minor": 5
}
