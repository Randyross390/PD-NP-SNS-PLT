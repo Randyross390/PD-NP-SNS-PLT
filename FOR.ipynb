{
 "cells": [
  {
   "cell_type": "code",
   "execution_count": 2,
   "id": "39920e1a-2211-40cd-9035-1272eb9fcb63",
   "metadata": {},
   "outputs": [
    {
     "name": "stdout",
     "output_type": "stream",
     "text": [
      "La suma es 48\n"
     ]
    }
   ],
   "source": [
    "## \"FOR\" nos da la suma del valor total de los elementos de una variable\n",
    "numeros = [6, 5, 3, 8, 4, 2, 5, 4, 11]\n",
    "suma = 0\n",
    "\n",
    "for valor in numeros:\n",
    "    suma = suma + valor\n",
    "\n",
    "print(\"La suma es\", suma)"
   ]
  },
  {
   "cell_type": "code",
   "execution_count": 4,
   "id": "0812a144-4433-4f28-a01b-2585bea11745",
   "metadata": {},
   "outputs": [
    {
     "name": "stdout",
     "output_type": "stream",
     "text": [
      "la suma es 48\n"
     ]
    }
   ],
   "source": [
    "# Alternativa en el comando print(f\"...{...}\")\n",
    "numeros = [6, 5, 3, 8, 4, 2, 5, 4, 11]\n",
    "suma = 0\n",
    "\n",
    "for valor in numeros:\n",
    "    suma = suma + valor\n",
    "\n",
    "print(f\"la suma es {suma}\")"
   ]
  },
  {
   "cell_type": "code",
   "execution_count": 6,
   "id": "325b22b4-d7af-49f4-84c2-14c10a41aafe",
   "metadata": {},
   "outputs": [
    {
     "name": "stdout",
     "output_type": "stream",
     "text": [
      "manzana\n",
      "fresa\n",
      "cereza\n"
     ]
    }
   ],
   "source": [
    "frutas = [\"manzana\", \"fresa\", \"cereza\"]\n",
    "for fruta in frutas:\n",
    "    print(fruta)"
   ]
  },
  {
   "cell_type": "code",
   "execution_count": 8,
   "id": "1a91dea6-947a-4d11-af0c-d5e8d2b3648a",
   "metadata": {},
   "outputs": [
    {
     "name": "stdout",
     "output_type": "stream",
     "text": [
      "p\n",
      "l\n",
      "a\n",
      "t\n",
      "a\n",
      "n\n",
      "o\n"
     ]
    }
   ],
   "source": [
    "for letra in \"platano\":\n",
    "    print(letra)"
   ]
  },
  {
   "cell_type": "code",
   "execution_count": 14,
   "id": "e35ee662-317e-420d-b8b1-3d0b28ee3844",
   "metadata": {},
   "outputs": [
    {
     "name": "stdout",
     "output_type": "stream",
     "text": [
      "5\n",
      "7\n",
      "11\n",
      "13\n",
      "Total:  36\n"
     ]
    }
   ],
   "source": [
    "total = 0\n",
    "for i in 5, 7, 11, 13:\n",
    "    print(i)\n",
    "    total += i\n",
    "print(\"Total: \", total)"
   ]
  },
  {
   "cell_type": "code",
   "execution_count": 16,
   "id": "38166761-efe3-4896-821a-eda041f93c83",
   "metadata": {},
   "outputs": [
    {
     "name": "stdout",
     "output_type": "stream",
     "text": [
      "0\n",
      "1\n",
      "2\n",
      "3\n",
      "4\n",
      "5\n"
     ]
    }
   ],
   "source": [
    "for x in range(6):\n",
    "    print(x)"
   ]
  },
  {
   "cell_type": "raw",
   "id": "4c49d45d-c534-4cce-bcf4-022dc33f9190",
   "metadata": {},
   "source": [
    "for x in range(2, 10):\n",
    "    print(x)"
   ]
  },
  {
   "cell_type": "code",
   "execution_count": 20,
   "id": "b8fe668d-a315-46a6-a3c7-3f5dd5f7cd25",
   "metadata": {},
   "outputs": [
    {
     "name": "stdout",
     "output_type": "stream",
     "text": [
      "2\n",
      "5\n",
      "8\n"
     ]
    }
   ],
   "source": [
    "## De esta forma le indicamos desde donde empezar \"2\" y hasta donde terminar \"10\" pero en suma de 3 e 3\n",
    "for x in range(2,10,3):\n",
    "    print(x)"
   ]
  },
  {
   "cell_type": "code",
   "execution_count": 22,
   "id": "6be1b973-5126-4f32-a678-0291254ea328",
   "metadata": {},
   "outputs": [
    {
     "name": "stdout",
     "output_type": "stream",
     "text": [
      "0\n",
      "1\n",
      "2\n",
      "3\n",
      "4\n",
      "5\n",
      "Proceso terminado\n"
     ]
    }
   ],
   "source": [
    "for x in range(6):\n",
    "    print(x)\n",
    "else:\n",
    "    print(\"Proceso terminado\")"
   ]
  },
  {
   "cell_type": "code",
   "execution_count": null,
   "id": "3faa528a-f804-4c66-858f-d2b5d51ef766",
   "metadata": {},
   "outputs": [],
   "source": []
  }
 ],
 "metadata": {
  "kernelspec": {
   "display_name": "Python 3 (ipykernel)",
   "language": "python",
   "name": "python3"
  },
  "language_info": {
   "codemirror_mode": {
    "name": "ipython",
    "version": 3
   },
   "file_extension": ".py",
   "mimetype": "text/x-python",
   "name": "python",
   "nbconvert_exporter": "python",
   "pygments_lexer": "ipython3",
   "version": "3.12.4"
  }
 },
 "nbformat": 4,
 "nbformat_minor": 5
}
